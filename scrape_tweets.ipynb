{
  "nbformat": 4,
  "nbformat_minor": 0,
  "metadata": {
    "colab": {
      "name": "scrape_tweets.ipynb",
      "provenance": [],
      "mount_file_id": "1GQfyI8HwjoyCVOngjR8751Vfqg4d9DDR",
      "authorship_tag": "ABX9TyMAZ+tnONY3m5zh/x938NnZ",
      "include_colab_link": true
    },
    "kernelspec": {
      "display_name": "Python 3",
      "name": "python3"
    },
    "language_info": {
      "name": "python"
    }
  },
  "cells": [
    {
      "cell_type": "markdown",
      "metadata": {
        "id": "view-in-github",
        "colab_type": "text"
      },
      "source": [
        "<a href=\"https://colab.research.google.com/github/EHDEV/sp_analytics/blob/master/scrape_tweets.ipynb\" target=\"_parent\"><img src=\"https://colab.research.google.com/assets/colab-badge.svg\" alt=\"Open In Colab\"/></a>"
      ]
    },
    {
      "cell_type": "markdown",
      "metadata": {
        "id": "iOGcSTi-Nvty"
      },
      "source": [
        "Scraping Tweets"
      ]
    },
    {
      "cell_type": "markdown",
      "metadata": {
        "id": "nDqtRK56fwsu"
      },
      "source": [
        "### Tweet Scraper Notebook\n",
        "\n",
        "#### Scrape, transform (dedup, clean, etc) and save\n",
        "\n",
        "- Define a list of accounts to pull tweets from (divided into a batch of 25 accounts)\n",
        "- For each batch of accounts, scrape tweets into a dataframe\n",
        "    + Alternatively add a date parameter to the query (`since: date`)\n",
        "- Merge the dataframes\n",
        "- Clean, dedup and transform\n",
        "- Save dataframes into CSV's based on date collected\n",
        "- Add a readme for each csv with the query used to collect tweets\n",
        "\n",
        "#### Analyze\n",
        "\n",
        "- Basic aggregation of tweets\n",
        "- Group tweets by account\n",
        "- Timeline of tweets by individual accounts\n",
        "- Group and aggregate tweets from accounts by keywords\n",
        "- Group and aggregate tweets for all by keywords\n",
        "\n",
        "..."
      ]
    },
    {
      "cell_type": "code",
      "metadata": {
        "colab": {
          "base_uri": "https://localhost:8080/"
        },
        "id": "o9kWBFgYNuQ8",
        "outputId": "4db894fa-de67-45a0-a801-8b92353d3ba2"
      },
      "source": [
        "!pip install snscrape"
      ],
      "execution_count": 1,
      "outputs": [
        {
          "output_type": "stream",
          "name": "stdout",
          "text": [
            "Collecting snscrape\n",
            "  Downloading snscrape-0.3.4-py3-none-any.whl (35 kB)\n",
            "Requirement already satisfied: requests[socks] in /usr/local/lib/python3.7/dist-packages (from snscrape) (2.23.0)\n",
            "Requirement already satisfied: lxml in /usr/local/lib/python3.7/dist-packages (from snscrape) (4.2.6)\n",
            "Requirement already satisfied: beautifulsoup4 in /usr/local/lib/python3.7/dist-packages (from snscrape) (4.6.3)\n",
            "Requirement already satisfied: chardet<4,>=3.0.2 in /usr/local/lib/python3.7/dist-packages (from requests[socks]->snscrape) (3.0.4)\n",
            "Requirement already satisfied: idna<3,>=2.5 in /usr/local/lib/python3.7/dist-packages (from requests[socks]->snscrape) (2.10)\n",
            "Requirement already satisfied: certifi>=2017.4.17 in /usr/local/lib/python3.7/dist-packages (from requests[socks]->snscrape) (2021.10.8)\n",
            "Requirement already satisfied: urllib3!=1.25.0,!=1.25.1,<1.26,>=1.21.1 in /usr/local/lib/python3.7/dist-packages (from requests[socks]->snscrape) (1.24.3)\n",
            "Requirement already satisfied: PySocks!=1.5.7,>=1.5.6 in /usr/local/lib/python3.7/dist-packages (from requests[socks]->snscrape) (1.7.1)\n",
            "Installing collected packages: snscrape\n",
            "Successfully installed snscrape-0.3.4\n"
          ]
        }
      ]
    },
    {
      "cell_type": "code",
      "metadata": {
        "id": "0vKiQc9hOztL"
      },
      "source": [
        "import snscrape.modules.twitter as sntwitter"
      ],
      "execution_count": 2,
      "outputs": []
    },
    {
      "cell_type": "code",
      "metadata": {
        "id": "FssC5l3eu3Kh"
      },
      "source": [
        "import pandas as pd\n",
        "import re\n",
        "from datetime import date"
      ],
      "execution_count": 53,
      "outputs": []
    },
    {
      "cell_type": "code",
      "metadata": {
        "colab": {
          "base_uri": "https://localhost:8080/",
          "height": 71
        },
        "id": "RF6sjFmWOGie",
        "outputId": "52b30ae8-d66b-47a7-dbfb-6ad5a361dff5"
      },
      "source": [
        "todays_date = date.today().strftime('%Y-%m-%d')\n",
        "\n",
        "accounts = [\n",
        "    'afp', 'rcoreyb', 'nytimes', 'reuters', 'reutersafrica', 'cnni', 'cnn', 'cnnafrica', 'theeconomist', 'bbc', \n",
        "    'bbcafrica', 'ap', 'guardian', 'telegraph', 'globeandmail', 'washingtonpost', 'voanews', 'dwnews', \n",
        "    'foreignpolicy','foreignaffairs', 'bbgafrica', 'ajenglish', 'business', 'voaafrica'\n",
        "]\n",
        "\n",
        "# accounts = ['aljazeera', 'ajnews', 'aljazeera_world', 'ajenglish']\n",
        "# 'pbs', 'npr', 'skynews',\n",
        "# other_un_accounts = ['un_pga', 'gaviseth', 'morenobid', 'pespinosac', 'lagarde', 'jimyongkim', 'eriksolheim', 'almagro_oea2015']\n",
        "from_accounts_text = '( ' + ' '.join([f'from:{x} OR' for x in accounts[:-1]]) + ' from:' + accounts[-1] + ' )'\n",
        "from_accounts_text\n"
      ],
      "execution_count": 86,
      "outputs": [
        {
          "output_type": "execute_result",
          "data": {
            "application/vnd.google.colaboratory.intrinsic+json": {
              "type": "string"
            },
            "text/plain": [
              "'( from:afp OR from:rcoreyb OR from:nytimes OR from:reuters OR from:reutersafrica OR from:cnni OR from:cnn OR from:cnnafrica OR from:theeconomist OR from:bbc OR from:bbcafrica OR from:ap OR from:guardian OR from:telegraph OR from:globeandmail OR from:washingtonpost OR from:voanews OR from:dwnews OR from:foreignpolicy OR from:foreignaffairs OR from:bbgafrica OR from:ajenglish OR from:business OR from:voaafrica )'"
            ]
          },
          "metadata": {},
          "execution_count": 86
        }
      ]
    },
    {
      "cell_type": "code",
      "metadata": {
        "id": "SOf-J7JeN1hD"
      },
      "source": [
        "search_terms = [\n",
        "    'ethiopia', 'tigray'\n",
        "]\n",
        "\n",
        "search_terms_text = '( ' + ' '.join([f'{x} OR' for x in search_terms[:-1]]) + ' ' + search_terms[-1] + ' )'\n",
        "\n",
        "\n",
        "advanced_search_citeria = '-filter:replies lang:en since:2019-11-01'\n",
        "\n",
        "search_criteria_full = ' '.join([from_accounts_text, search_terms_text, advanced_search_citeria])\n"
      ],
      "execution_count": 115,
      "outputs": []
    },
    {
      "cell_type": "code",
      "metadata": {
        "colab": {
          "base_uri": "https://localhost:8080/",
          "height": 71
        },
        "id": "P6TEaa4YN-aN",
        "outputId": "1b2cbde5-b9af-4915-b206-3668ddaf7494"
      },
      "source": [
        "search_criteria_full"
      ],
      "execution_count": 116,
      "outputs": [
        {
          "output_type": "execute_result",
          "data": {
            "application/vnd.google.colaboratory.intrinsic+json": {
              "type": "string"
            },
            "text/plain": [
              "'( from:afp OR from:rcoreyb OR from:nytimes OR from:reuters OR from:reutersafrica OR from:cnni OR from:cnn OR from:cnnafrica OR from:theeconomist OR from:bbc OR from:bbcafrica OR from:ap OR from:guardian OR from:telegraph OR from:globeandmail OR from:washingtonpost OR from:voanews OR from:dwnews OR from:foreignpolicy OR from:foreignaffairs OR from:bbgafrica OR from:ajenglish OR from:business OR from:voaafrica ) ( ethiopia OR tigray ) -filter:replies lang:en since:2019-11-01'"
            ]
          },
          "metadata": {},
          "execution_count": 116
        }
      ]
    },
    {
      "cell_type": "code",
      "metadata": {
        "id": "IQCDkPSIOlAI"
      },
      "source": [
        "\n",
        "# Creating list to append tweet data \n",
        "tweets_list1 = []\n",
        "\n",
        "\n",
        "# Using TwitterSearchScraper to scrape data and append tweets to list\n",
        "for i,tweet in enumerate(sntwitter.TwitterSearchScraper(search_criteria_full).get_items()): #declare a username \n",
        "    # import pdb; pdb.set_trace()\n",
        "    if i>1000000: #number of tweets you want to scrape\n",
        "        break\n",
        "    tweets_list1.append([tweet.date, tweet.id, tweet.content, tweet.username, tweet.url]) #declare the attributes to be returned\n",
        "    \n",
        "# Creating a dataframe from the tweets list above \n",
        "df_tweets = pd.DataFrame(tweets_list1, columns=['datetime', 'tweet_id', 'tweet_text', 'username', 'tweet_url'])"
      ],
      "execution_count": 117,
      "outputs": []
    },
    {
      "cell_type": "code",
      "metadata": {
        "colab": {
          "base_uri": "https://localhost:8080/"
        },
        "id": "nQfe6d3tDesP",
        "outputId": "fae8edb8-521b-4a47-c907-b9ec88bc08d1"
      },
      "source": [
        "df_tweets.shape"
      ],
      "execution_count": 118,
      "outputs": [
        {
          "output_type": "execute_result",
          "data": {
            "text/plain": [
              "(6043, 5)"
            ]
          },
          "metadata": {},
          "execution_count": 118
        }
      ]
    },
    {
      "cell_type": "code",
      "metadata": {
        "colab": {
          "base_uri": "https://localhost:8080/",
          "height": 360
        },
        "id": "hKrFv3KqrERH",
        "outputId": "7aec5074-ae45-49f1-afd2-8ae24c146ca9"
      },
      "source": [
        "pd.set_option('display.max_colwidth', -1)\n",
        "\n",
        "df_tweets.head()"
      ],
      "execution_count": 119,
      "outputs": [
        {
          "output_type": "stream",
          "name": "stderr",
          "text": [
            "/usr/local/lib/python3.7/dist-packages/ipykernel_launcher.py:1: FutureWarning: Passing a negative integer is deprecated in version 1.0 and will not be supported in future version. Instead, use None to not limit the column width.\n",
            "  \"\"\"Entry point for launching an IPython kernel.\n"
          ]
        },
        {
          "output_type": "execute_result",
          "data": {
            "text/html": [
              "<div>\n",
              "<style scoped>\n",
              "    .dataframe tbody tr th:only-of-type {\n",
              "        vertical-align: middle;\n",
              "    }\n",
              "\n",
              "    .dataframe tbody tr th {\n",
              "        vertical-align: top;\n",
              "    }\n",
              "\n",
              "    .dataframe thead th {\n",
              "        text-align: right;\n",
              "    }\n",
              "</style>\n",
              "<table border=\"1\" class=\"dataframe\">\n",
              "  <thead>\n",
              "    <tr style=\"text-align: right;\">\n",
              "      <th></th>\n",
              "      <th>datetime</th>\n",
              "      <th>tweet_id</th>\n",
              "      <th>tweet_text</th>\n",
              "      <th>username</th>\n",
              "      <th>tweet_url</th>\n",
              "    </tr>\n",
              "  </thead>\n",
              "  <tbody>\n",
              "    <tr>\n",
              "      <th>0</th>\n",
              "      <td>2021-11-19 02:21:33+00:00</td>\n",
              "      <td>1461519985843474433</td>\n",
              "      <td>Crises in Sudan, Ethiopia Flare as Blinken Visits Africa https://t.co/VT49xxP8E8</td>\n",
              "      <td>VOAAfrica</td>\n",
              "      <td>https://twitter.com/VOAAfrica/status/1461519985843474433</td>\n",
              "    </tr>\n",
              "    <tr>\n",
              "      <th>1</th>\n",
              "      <td>2021-11-19 01:29:00+00:00</td>\n",
              "      <td>1461506762138210304</td>\n",
              "      <td>A manhunt in Ethiopia's capital is underway for anyone suspected of being linked to Tigrayan rebels — and some residents are joining in. https://t.co/xJlkUyt5xr</td>\n",
              "      <td>dwnews</td>\n",
              "      <td>https://twitter.com/dwnews/status/1461506762138210304</td>\n",
              "    </tr>\n",
              "    <tr>\n",
              "      <th>2</th>\n",
              "      <td>2021-11-18 21:35:17+00:00</td>\n",
              "      <td>1461447944935284738</td>\n",
              "      <td>U.S. envoy meets Ethiopia deputy PM in bid to revive truce efforts https://t.co/SVtvEAC5qU https://t.co/RT4RNtc3Sk</td>\n",
              "      <td>Reuters</td>\n",
              "      <td>https://twitter.com/Reuters/status/1461447944935284738</td>\n",
              "    </tr>\n",
              "    <tr>\n",
              "      <th>3</th>\n",
              "      <td>2021-11-18 18:05:15+00:00</td>\n",
              "      <td>1461395090665086976</td>\n",
              "      <td>U.S. envoy meets Ethiopia deputy PM in bid to revive truce efforts https://t.co/jaLx4HMIbf https://t.co/gxoVzLms9F</td>\n",
              "      <td>Reuters</td>\n",
              "      <td>https://twitter.com/Reuters/status/1461395090665086976</td>\n",
              "    </tr>\n",
              "    <tr>\n",
              "      <th>4</th>\n",
              "      <td>2021-11-18 16:29:33+00:00</td>\n",
              "      <td>1461371006988206089</td>\n",
              "      <td>Coming up on #AfricaNewsTonight: U.S. top diplomat Anthony Blinken continues Africa tour, calls for a ceasefire in Ethiopia and U.S. pushes to restore Sudan’s democratic transition. \\n\\nTune in @ 16:00 &amp;amp; 18:00 UTC: https://t.co/RrVCAPu2cW https://t.co/v3J3V4nRI8</td>\n",
              "      <td>VOAAfrica</td>\n",
              "      <td>https://twitter.com/VOAAfrica/status/1461371006988206089</td>\n",
              "    </tr>\n",
              "  </tbody>\n",
              "</table>\n",
              "</div>"
            ],
            "text/plain": [
              "                   datetime  ...                                                 tweet_url\n",
              "0 2021-11-19 02:21:33+00:00  ...  https://twitter.com/VOAAfrica/status/1461519985843474433\n",
              "1 2021-11-19 01:29:00+00:00  ...  https://twitter.com/dwnews/status/1461506762138210304   \n",
              "2 2021-11-18 21:35:17+00:00  ...  https://twitter.com/Reuters/status/1461447944935284738  \n",
              "3 2021-11-18 18:05:15+00:00  ...  https://twitter.com/Reuters/status/1461395090665086976  \n",
              "4 2021-11-18 16:29:33+00:00  ...  https://twitter.com/VOAAfrica/status/1461371006988206089\n",
              "\n",
              "[5 rows x 5 columns]"
            ]
          },
          "metadata": {},
          "execution_count": 119
        }
      ]
    },
    {
      "cell_type": "code",
      "metadata": {
        "id": "Kk4fQz2dmWxa"
      },
      "source": [
        "df_tweets.columns = ['datetime', 'tweet_id', 'tweet_text', 'username', 'tweet_url']"
      ],
      "execution_count": 120,
      "outputs": []
    },
    {
      "cell_type": "code",
      "metadata": {
        "id": "v76rvT4AO5WC"
      },
      "source": [
        "df_tweets['date'] = df_tweets['datetime'].dt.date"
      ],
      "execution_count": 124,
      "outputs": []
    },
    {
      "cell_type": "markdown",
      "metadata": {
        "id": "lH8YiLcCpR2H"
      },
      "source": [
        "## Clean, Dedup, Transform\n",
        "\n",
        "- Extract any link to a separate column (`external_link`) and remove from `tweet_text`\n",
        "- Drop duplicates by `tweet_id`\n",
        "- Remove tagged accounts from `tweet_text` [optional]"
      ]
    },
    {
      "cell_type": "code",
      "metadata": {
        "colab": {
          "base_uri": "https://localhost:8080/"
        },
        "id": "rLEuhOmXpYiv",
        "outputId": "3586ec47-abb6-44ef-b06a-2ed16e3c2855"
      },
      "source": [
        "\n",
        "def extract_url(text):\n",
        "    \n",
        "    regex = r\"(?i)\\b((?:https?://|www\\d{0,3}[.]|[a-z0-9.\\-]+[.][a-z]{2,4}/)(?:[^\\s()<>]+|\\(([^\\s()<>]+|(\\([^\\s()<>]+\\)))*\\))+(?:\\(([^\\s()<>]+|(\\([^\\s()<>]+\\)))*\\)|[^\\s`!()\\[\\]{};:'\\\".,<>?«»“”‘’]))\"\n",
        "    match = re.search(regex, text)\n",
        "    if match:\n",
        "        return match.group()    \n",
        "    return ''\n",
        "\n",
        "def remove_url(text):\n",
        "    regex = r\"http\\S+\"\n",
        "    return re.sub(regex, \"\", text)\n",
        "\n",
        "usernames_to_main_account_map = {\n",
        "    'afpafrica': 'AFP',\n",
        "    'bbgafrica': 'Bloomberg',\n",
        "    'business': 'Bloomberg',\n",
        "    'cnnafrica': 'CNN',\n",
        "    'cnni': 'CNN',\n",
        "    'cnn': 'CNN',\n",
        "    'reutersafrica': 'Reuters',\n",
        "    'reuters': 'Reuters',\n",
        "    'voaafrica': 'VOA',\n",
        "    'voanews': 'VOA',\n",
        "    'bbcafrica': 'BBC',\n",
        "    'afp': 'AFP',\n",
        "    'globeandmail': 'GlobeAndMail',\n",
        "    'nytimes': 'NYTimes',\n",
        "    'foreignaffairs': 'ForeignAffairs',\n",
        "    'foreignpolicy': 'ForeignPolicy',\n",
        "    'guardian': 'TheGuardian',\n",
        "    'washingtonpost': 'WashingtonPost',\n",
        "    'dwnews': 'DeutscheWelle',\n",
        "    'ajenglish': 'Aljazeera',\n",
        "    'telegraph': 'Telegraph',\n",
        "    'ap': 'AP',\n",
        "    'theeconomist': 'TheEconomist'\n",
        "}\n",
        "\n",
        "def extract_media_org(name):\n",
        "    return usernames_to_main_account_map.get(name, name)\n",
        "\n",
        "\n",
        "df_tweets['external_link'] = df_tweets['tweet_text'].apply(extract_url)\n",
        "\n",
        "df_tweets['tweet_text'] = df_tweets['tweet_text'].apply(remove_url)\n",
        "\n",
        "# replacing rcoreyb with afpafrica since afpafrica has recently been deactivated\n",
        "df_tweets['username'] = df_tweets['username'].str.replace('rcoreyb', 'afpafrica')\n",
        "\n",
        "df_tweets['media_organization'] = df_tweets.username.str.lower().apply(extract_media_org)\n",
        "df_tweets.drop_duplicates(subset=['tweet_id'], inplace=True)\n",
        "df_tweets.shape\n"
      ],
      "execution_count": 142,
      "outputs": [
        {
          "output_type": "execute_result",
          "data": {
            "text/plain": [
              "(6043, 8)"
            ]
          },
          "metadata": {},
          "execution_count": 142
        }
      ]
    },
    {
      "cell_type": "code",
      "metadata": {
        "colab": {
          "base_uri": "https://localhost:8080/",
          "height": 227
        },
        "id": "Y_xNoHzP_8KQ",
        "outputId": "5b35135b-74de-42df-d7d0-7ac6f10494e0"
      },
      "source": [
        "df_tweets.head(3)"
      ],
      "execution_count": 143,
      "outputs": [
        {
          "output_type": "execute_result",
          "data": {
            "text/html": [
              "<div>\n",
              "<style scoped>\n",
              "    .dataframe tbody tr th:only-of-type {\n",
              "        vertical-align: middle;\n",
              "    }\n",
              "\n",
              "    .dataframe tbody tr th {\n",
              "        vertical-align: top;\n",
              "    }\n",
              "\n",
              "    .dataframe thead th {\n",
              "        text-align: right;\n",
              "    }\n",
              "</style>\n",
              "<table border=\"1\" class=\"dataframe\">\n",
              "  <thead>\n",
              "    <tr style=\"text-align: right;\">\n",
              "      <th></th>\n",
              "      <th>datetime</th>\n",
              "      <th>tweet_id</th>\n",
              "      <th>tweet_text</th>\n",
              "      <th>username</th>\n",
              "      <th>tweet_url</th>\n",
              "      <th>date</th>\n",
              "      <th>external_link</th>\n",
              "      <th>media_organization</th>\n",
              "    </tr>\n",
              "  </thead>\n",
              "  <tbody>\n",
              "    <tr>\n",
              "      <th>0</th>\n",
              "      <td>2021-11-19 02:21:33+00:00</td>\n",
              "      <td>1461519985843474433</td>\n",
              "      <td>Crises in Sudan, Ethiopia Flare as Blinken Visits Africa</td>\n",
              "      <td>VOAAfrica</td>\n",
              "      <td>https://twitter.com/VOAAfrica/status/1461519985843474433</td>\n",
              "      <td>2021-11-19</td>\n",
              "      <td></td>\n",
              "      <td>VOA</td>\n",
              "    </tr>\n",
              "    <tr>\n",
              "      <th>1</th>\n",
              "      <td>2021-11-19 01:29:00+00:00</td>\n",
              "      <td>1461506762138210304</td>\n",
              "      <td>A manhunt in Ethiopia's capital is underway for anyone suspected of being linked to Tigrayan rebels — and some residents are joining in.</td>\n",
              "      <td>dwnews</td>\n",
              "      <td>https://twitter.com/dwnews/status/1461506762138210304</td>\n",
              "      <td>2021-11-19</td>\n",
              "      <td></td>\n",
              "      <td>DeutscheWelle</td>\n",
              "    </tr>\n",
              "    <tr>\n",
              "      <th>2</th>\n",
              "      <td>2021-11-18 21:35:17+00:00</td>\n",
              "      <td>1461447944935284738</td>\n",
              "      <td>U.S. envoy meets Ethiopia deputy PM in bid to revive truce efforts</td>\n",
              "      <td>Reuters</td>\n",
              "      <td>https://twitter.com/Reuters/status/1461447944935284738</td>\n",
              "      <td>2021-11-18</td>\n",
              "      <td></td>\n",
              "      <td>Reuters</td>\n",
              "    </tr>\n",
              "  </tbody>\n",
              "</table>\n",
              "</div>"
            ],
            "text/plain": [
              "                   datetime  ...  media_organization\n",
              "0 2021-11-19 02:21:33+00:00  ...  VOA               \n",
              "1 2021-11-19 01:29:00+00:00  ...  DeutscheWelle     \n",
              "2 2021-11-18 21:35:17+00:00  ...  Reuters           \n",
              "\n",
              "[3 rows x 8 columns]"
            ]
          },
          "metadata": {},
          "execution_count": 143
        }
      ]
    },
    {
      "cell_type": "code",
      "metadata": {
        "id": "2dCCPL45RtKY"
      },
      "source": [
        "csv_name = f'tweets_from_major_us_eu_uk_canada_news_orgs_extracted_{todays_date}'\n",
        "full_path = f'./drive/MyDrive/tweet_data/{csv_name}'"
      ],
      "execution_count": 176,
      "outputs": []
    },
    {
      "cell_type": "code",
      "metadata": {
        "id": "QRPJVosGO7-i"
      },
      "source": [
        "df_tweets.to_csv(full_path, index=False)"
      ],
      "execution_count": 175,
      "outputs": []
    },
    {
      "cell_type": "markdown",
      "metadata": {
        "id": "lxQ_ci1KR-6p"
      },
      "source": [
        "## Load CSV Data"
      ]
    },
    {
      "cell_type": "code",
      "metadata": {
        "id": "FAyzev6KSHzg"
      },
      "source": [
        "import pandas as pd\n",
        "from datetime import date"
      ],
      "execution_count": 7,
      "outputs": []
    },
    {
      "cell_type": "code",
      "metadata": {
        "id": "38AXVpMkSRih"
      },
      "source": [
        "todays_date = date.today().strftime('%Y-%m-%d')\n",
        "\n",
        "csv_name = f'tweets_from_major_us_eu_uk_canada_news_orgs_extracted_{todays_date}'\n",
        "full_path = f'./drive/MyDrive/tweet_data/{csv_name}'"
      ],
      "execution_count": 8,
      "outputs": []
    },
    {
      "cell_type": "code",
      "metadata": {
        "id": "rzyfeHyXRYvZ"
      },
      "source": [
        "df_tweets = pd.read_csv(full_path)"
      ],
      "execution_count": 9,
      "outputs": []
    },
    {
      "cell_type": "code",
      "metadata": {
        "colab": {
          "base_uri": "https://localhost:8080/"
        },
        "id": "PIQYeA2APLNQ",
        "outputId": "aa5da6b6-8cb3-451f-e0db-cb354f21e82d"
      },
      "source": [
        "# tweets_df1.head(10)[['URL', 'Text']].to_dict(orient='records')\\\\\n",
        "df_tweets.username.value_counts()"
      ],
      "execution_count": 10,
      "outputs": [
        {
          "output_type": "execute_result",
          "data": {
            "text/plain": [
              "Reuters           981\n",
              "ReutersAfrica     894\n",
              "afpafrica         497\n",
              "BBGAfrica         442\n",
              "AJEnglish         384\n",
              "TheEconomist      325\n",
              "business          305\n",
              "VOAAfrica         290\n",
              "BBCAfrica         282\n",
              "AFP               262\n",
              "ForeignPolicy     213\n",
              "VOANews           186\n",
              "dwnews            156\n",
              "AP                139\n",
              "globeandmail      133\n",
              "CNNAfrica         114\n",
              "cnni              101\n",
              "guardian           92\n",
              "ForeignAffairs     88\n",
              "CNN                57\n",
              "nytimes            54\n",
              "washingtonpost     32\n",
              "Telegraph          16\n",
              "Name: username, dtype: int64"
            ]
          },
          "metadata": {},
          "execution_count": 10
        }
      ]
    },
    {
      "cell_type": "markdown",
      "metadata": {
        "id": "YV1NRtVJIxMg"
      },
      "source": [
        "## Analysis"
      ]
    },
    {
      "cell_type": "code",
      "metadata": {
        "id": "OBbin02bJT95"
      },
      "source": [
        "from matplotlib.pyplot import figure\n",
        "import seaborn as sbn\n",
        "import plotly.express as px\n"
      ],
      "execution_count": 11,
      "outputs": []
    },
    {
      "cell_type": "markdown",
      "metadata": {
        "id": "u7cxwgYJI43f"
      },
      "source": [
        "#### Volume of tweets by Media Organization (since 2019-11-01)"
      ]
    },
    {
      "cell_type": "code",
      "metadata": {
        "colab": {
          "base_uri": "https://localhost:8080/"
        },
        "id": "-a2zF5_6LGUG",
        "outputId": "739bec7d-3466-4a75-bb78-2a8b1fa65a99"
      },
      "source": [
        "31*9"
      ],
      "execution_count": 156,
      "outputs": [
        {
          "output_type": "execute_result",
          "data": {
            "text/plain": [
              "279"
            ]
          },
          "metadata": {},
          "execution_count": 156
        }
      ]
    },
    {
      "cell_type": "code",
      "metadata": {
        "colab": {
          "base_uri": "https://localhost:8080/",
          "height": 617
        },
        "id": "zTWFn9OEKFx_",
        "outputId": "5bd6b72d-7368-4d52-a69a-9480f055d45f"
      },
      "source": [
        "df_agg = df_tweets[['media_organization', 'tweet_url']].groupby('media_organization')\\\n",
        "    .count() \\\n",
        "    .sort_values(['tweet_url'], ascending=False).reset_index()\n",
        "\n",
        "fig = px.bar(df_agg, x='media_organization', y='tweet_url',\n",
        "             labels={'tweet_url':'Volume of Tweets (Articles)'}, height=600)\n",
        "fig.show()"
      ],
      "execution_count": 31,
      "outputs": [
        {
          "output_type": "display_data",
          "data": {
            "text/html": [
              "<html>\n",
              "<head><meta charset=\"utf-8\" /></head>\n",
              "<body>\n",
              "    <div>            <script src=\"https://cdnjs.cloudflare.com/ajax/libs/mathjax/2.7.5/MathJax.js?config=TeX-AMS-MML_SVG\"></script><script type=\"text/javascript\">if (window.MathJax) {MathJax.Hub.Config({SVG: {font: \"STIX-Web\"}});}</script>                <script type=\"text/javascript\">window.PlotlyConfig = {MathJaxConfig: 'local'};</script>\n",
              "        <script src=\"https://cdn.plot.ly/plotly-2.6.3.min.js\"></script>                <div id=\"d7f41034-0de5-4c96-aae1-e2da691c9b10\" class=\"plotly-graph-div\" style=\"height:600px; width:100%;\"></div>            <script type=\"text/javascript\">                                    window.PLOTLYENV=window.PLOTLYENV || {};                                    if (document.getElementById(\"d7f41034-0de5-4c96-aae1-e2da691c9b10\")) {                    Plotly.newPlot(                        \"d7f41034-0de5-4c96-aae1-e2da691c9b10\",                        [{\"alignmentgroup\":\"True\",\"hovertemplate\":\"media_organization=%{x}<br>Volume of Tweets (Articles)=%{y}<extra></extra>\",\"legendgroup\":\"\",\"marker\":{\"color\":\"#636efa\",\"pattern\":{\"shape\":\"\"}},\"name\":\"\",\"offsetgroup\":\"\",\"orientation\":\"v\",\"showlegend\":false,\"textposition\":\"auto\",\"x\":[\"Reuters\",\"AFP\",\"Bloomberg\",\"VOA\",\"Aljazeera\",\"TheEconomist\",\"BBC\",\"CNN\",\"ForeignPolicy\",\"DeutscheWelle\",\"AP\",\"GlobeAndMail\",\"TheGuardian\",\"ForeignAffairs\",\"NYTimes\",\"WashingtonPost\",\"Telegraph\"],\"xaxis\":\"x\",\"y\":[1875,759,747,476,384,325,282,272,213,156,139,133,92,88,54,32,16],\"yaxis\":\"y\",\"type\":\"bar\"}],                        {\"template\":{\"data\":{\"bar\":[{\"error_x\":{\"color\":\"#2a3f5f\"},\"error_y\":{\"color\":\"#2a3f5f\"},\"marker\":{\"line\":{\"color\":\"#E5ECF6\",\"width\":0.5},\"pattern\":{\"fillmode\":\"overlay\",\"size\":10,\"solidity\":0.2}},\"type\":\"bar\"}],\"barpolar\":[{\"marker\":{\"line\":{\"color\":\"#E5ECF6\",\"width\":0.5},\"pattern\":{\"fillmode\":\"overlay\",\"size\":10,\"solidity\":0.2}},\"type\":\"barpolar\"}],\"carpet\":[{\"aaxis\":{\"endlinecolor\":\"#2a3f5f\",\"gridcolor\":\"white\",\"linecolor\":\"white\",\"minorgridcolor\":\"white\",\"startlinecolor\":\"#2a3f5f\"},\"baxis\":{\"endlinecolor\":\"#2a3f5f\",\"gridcolor\":\"white\",\"linecolor\":\"white\",\"minorgridcolor\":\"white\",\"startlinecolor\":\"#2a3f5f\"},\"type\":\"carpet\"}],\"choropleth\":[{\"colorbar\":{\"outlinewidth\":0,\"ticks\":\"\"},\"type\":\"choropleth\"}],\"contour\":[{\"colorbar\":{\"outlinewidth\":0,\"ticks\":\"\"},\"colorscale\":[[0.0,\"#0d0887\"],[0.1111111111111111,\"#46039f\"],[0.2222222222222222,\"#7201a8\"],[0.3333333333333333,\"#9c179e\"],[0.4444444444444444,\"#bd3786\"],[0.5555555555555556,\"#d8576b\"],[0.6666666666666666,\"#ed7953\"],[0.7777777777777778,\"#fb9f3a\"],[0.8888888888888888,\"#fdca26\"],[1.0,\"#f0f921\"]],\"type\":\"contour\"}],\"contourcarpet\":[{\"colorbar\":{\"outlinewidth\":0,\"ticks\":\"\"},\"type\":\"contourcarpet\"}],\"heatmap\":[{\"colorbar\":{\"outlinewidth\":0,\"ticks\":\"\"},\"colorscale\":[[0.0,\"#0d0887\"],[0.1111111111111111,\"#46039f\"],[0.2222222222222222,\"#7201a8\"],[0.3333333333333333,\"#9c179e\"],[0.4444444444444444,\"#bd3786\"],[0.5555555555555556,\"#d8576b\"],[0.6666666666666666,\"#ed7953\"],[0.7777777777777778,\"#fb9f3a\"],[0.8888888888888888,\"#fdca26\"],[1.0,\"#f0f921\"]],\"type\":\"heatmap\"}],\"heatmapgl\":[{\"colorbar\":{\"outlinewidth\":0,\"ticks\":\"\"},\"colorscale\":[[0.0,\"#0d0887\"],[0.1111111111111111,\"#46039f\"],[0.2222222222222222,\"#7201a8\"],[0.3333333333333333,\"#9c179e\"],[0.4444444444444444,\"#bd3786\"],[0.5555555555555556,\"#d8576b\"],[0.6666666666666666,\"#ed7953\"],[0.7777777777777778,\"#fb9f3a\"],[0.8888888888888888,\"#fdca26\"],[1.0,\"#f0f921\"]],\"type\":\"heatmapgl\"}],\"histogram\":[{\"marker\":{\"pattern\":{\"fillmode\":\"overlay\",\"size\":10,\"solidity\":0.2}},\"type\":\"histogram\"}],\"histogram2d\":[{\"colorbar\":{\"outlinewidth\":0,\"ticks\":\"\"},\"colorscale\":[[0.0,\"#0d0887\"],[0.1111111111111111,\"#46039f\"],[0.2222222222222222,\"#7201a8\"],[0.3333333333333333,\"#9c179e\"],[0.4444444444444444,\"#bd3786\"],[0.5555555555555556,\"#d8576b\"],[0.6666666666666666,\"#ed7953\"],[0.7777777777777778,\"#fb9f3a\"],[0.8888888888888888,\"#fdca26\"],[1.0,\"#f0f921\"]],\"type\":\"histogram2d\"}],\"histogram2dcontour\":[{\"colorbar\":{\"outlinewidth\":0,\"ticks\":\"\"},\"colorscale\":[[0.0,\"#0d0887\"],[0.1111111111111111,\"#46039f\"],[0.2222222222222222,\"#7201a8\"],[0.3333333333333333,\"#9c179e\"],[0.4444444444444444,\"#bd3786\"],[0.5555555555555556,\"#d8576b\"],[0.6666666666666666,\"#ed7953\"],[0.7777777777777778,\"#fb9f3a\"],[0.8888888888888888,\"#fdca26\"],[1.0,\"#f0f921\"]],\"type\":\"histogram2dcontour\"}],\"mesh3d\":[{\"colorbar\":{\"outlinewidth\":0,\"ticks\":\"\"},\"type\":\"mesh3d\"}],\"parcoords\":[{\"line\":{\"colorbar\":{\"outlinewidth\":0,\"ticks\":\"\"}},\"type\":\"parcoords\"}],\"pie\":[{\"automargin\":true,\"type\":\"pie\"}],\"scatter\":[{\"marker\":{\"colorbar\":{\"outlinewidth\":0,\"ticks\":\"\"}},\"type\":\"scatter\"}],\"scatter3d\":[{\"line\":{\"colorbar\":{\"outlinewidth\":0,\"ticks\":\"\"}},\"marker\":{\"colorbar\":{\"outlinewidth\":0,\"ticks\":\"\"}},\"type\":\"scatter3d\"}],\"scattercarpet\":[{\"marker\":{\"colorbar\":{\"outlinewidth\":0,\"ticks\":\"\"}},\"type\":\"scattercarpet\"}],\"scattergeo\":[{\"marker\":{\"colorbar\":{\"outlinewidth\":0,\"ticks\":\"\"}},\"type\":\"scattergeo\"}],\"scattergl\":[{\"marker\":{\"colorbar\":{\"outlinewidth\":0,\"ticks\":\"\"}},\"type\":\"scattergl\"}],\"scattermapbox\":[{\"marker\":{\"colorbar\":{\"outlinewidth\":0,\"ticks\":\"\"}},\"type\":\"scattermapbox\"}],\"scatterpolar\":[{\"marker\":{\"colorbar\":{\"outlinewidth\":0,\"ticks\":\"\"}},\"type\":\"scatterpolar\"}],\"scatterpolargl\":[{\"marker\":{\"colorbar\":{\"outlinewidth\":0,\"ticks\":\"\"}},\"type\":\"scatterpolargl\"}],\"scatterternary\":[{\"marker\":{\"colorbar\":{\"outlinewidth\":0,\"ticks\":\"\"}},\"type\":\"scatterternary\"}],\"surface\":[{\"colorbar\":{\"outlinewidth\":0,\"ticks\":\"\"},\"colorscale\":[[0.0,\"#0d0887\"],[0.1111111111111111,\"#46039f\"],[0.2222222222222222,\"#7201a8\"],[0.3333333333333333,\"#9c179e\"],[0.4444444444444444,\"#bd3786\"],[0.5555555555555556,\"#d8576b\"],[0.6666666666666666,\"#ed7953\"],[0.7777777777777778,\"#fb9f3a\"],[0.8888888888888888,\"#fdca26\"],[1.0,\"#f0f921\"]],\"type\":\"surface\"}],\"table\":[{\"cells\":{\"fill\":{\"color\":\"#EBF0F8\"},\"line\":{\"color\":\"white\"}},\"header\":{\"fill\":{\"color\":\"#C8D4E3\"},\"line\":{\"color\":\"white\"}},\"type\":\"table\"}]},\"layout\":{\"annotationdefaults\":{\"arrowcolor\":\"#2a3f5f\",\"arrowhead\":0,\"arrowwidth\":1},\"autotypenumbers\":\"strict\",\"coloraxis\":{\"colorbar\":{\"outlinewidth\":0,\"ticks\":\"\"}},\"colorscale\":{\"diverging\":[[0,\"#8e0152\"],[0.1,\"#c51b7d\"],[0.2,\"#de77ae\"],[0.3,\"#f1b6da\"],[0.4,\"#fde0ef\"],[0.5,\"#f7f7f7\"],[0.6,\"#e6f5d0\"],[0.7,\"#b8e186\"],[0.8,\"#7fbc41\"],[0.9,\"#4d9221\"],[1,\"#276419\"]],\"sequential\":[[0.0,\"#0d0887\"],[0.1111111111111111,\"#46039f\"],[0.2222222222222222,\"#7201a8\"],[0.3333333333333333,\"#9c179e\"],[0.4444444444444444,\"#bd3786\"],[0.5555555555555556,\"#d8576b\"],[0.6666666666666666,\"#ed7953\"],[0.7777777777777778,\"#fb9f3a\"],[0.8888888888888888,\"#fdca26\"],[1.0,\"#f0f921\"]],\"sequentialminus\":[[0.0,\"#0d0887\"],[0.1111111111111111,\"#46039f\"],[0.2222222222222222,\"#7201a8\"],[0.3333333333333333,\"#9c179e\"],[0.4444444444444444,\"#bd3786\"],[0.5555555555555556,\"#d8576b\"],[0.6666666666666666,\"#ed7953\"],[0.7777777777777778,\"#fb9f3a\"],[0.8888888888888888,\"#fdca26\"],[1.0,\"#f0f921\"]]},\"colorway\":[\"#636efa\",\"#EF553B\",\"#00cc96\",\"#ab63fa\",\"#FFA15A\",\"#19d3f3\",\"#FF6692\",\"#B6E880\",\"#FF97FF\",\"#FECB52\"],\"font\":{\"color\":\"#2a3f5f\"},\"geo\":{\"bgcolor\":\"white\",\"lakecolor\":\"white\",\"landcolor\":\"#E5ECF6\",\"showlakes\":true,\"showland\":true,\"subunitcolor\":\"white\"},\"hoverlabel\":{\"align\":\"left\"},\"hovermode\":\"closest\",\"mapbox\":{\"style\":\"light\"},\"paper_bgcolor\":\"white\",\"plot_bgcolor\":\"#E5ECF6\",\"polar\":{\"angularaxis\":{\"gridcolor\":\"white\",\"linecolor\":\"white\",\"ticks\":\"\"},\"bgcolor\":\"#E5ECF6\",\"radialaxis\":{\"gridcolor\":\"white\",\"linecolor\":\"white\",\"ticks\":\"\"}},\"scene\":{\"xaxis\":{\"backgroundcolor\":\"#E5ECF6\",\"gridcolor\":\"white\",\"gridwidth\":2,\"linecolor\":\"white\",\"showbackground\":true,\"ticks\":\"\",\"zerolinecolor\":\"white\"},\"yaxis\":{\"backgroundcolor\":\"#E5ECF6\",\"gridcolor\":\"white\",\"gridwidth\":2,\"linecolor\":\"white\",\"showbackground\":true,\"ticks\":\"\",\"zerolinecolor\":\"white\"},\"zaxis\":{\"backgroundcolor\":\"#E5ECF6\",\"gridcolor\":\"white\",\"gridwidth\":2,\"linecolor\":\"white\",\"showbackground\":true,\"ticks\":\"\",\"zerolinecolor\":\"white\"}},\"shapedefaults\":{\"line\":{\"color\":\"#2a3f5f\"}},\"ternary\":{\"aaxis\":{\"gridcolor\":\"white\",\"linecolor\":\"white\",\"ticks\":\"\"},\"baxis\":{\"gridcolor\":\"white\",\"linecolor\":\"white\",\"ticks\":\"\"},\"bgcolor\":\"#E5ECF6\",\"caxis\":{\"gridcolor\":\"white\",\"linecolor\":\"white\",\"ticks\":\"\"}},\"title\":{\"x\":0.05},\"xaxis\":{\"automargin\":true,\"gridcolor\":\"white\",\"linecolor\":\"white\",\"ticks\":\"\",\"title\":{\"standoff\":15},\"zerolinecolor\":\"white\",\"zerolinewidth\":2},\"yaxis\":{\"automargin\":true,\"gridcolor\":\"white\",\"linecolor\":\"white\",\"ticks\":\"\",\"title\":{\"standoff\":15},\"zerolinecolor\":\"white\",\"zerolinewidth\":2}}},\"xaxis\":{\"anchor\":\"y\",\"domain\":[0.0,1.0],\"title\":{\"text\":\"media_organization\"}},\"yaxis\":{\"anchor\":\"x\",\"domain\":[0.0,1.0],\"title\":{\"text\":\"Volume of Tweets (Articles)\"}},\"legend\":{\"tracegroupgap\":0},\"margin\":{\"t\":60},\"barmode\":\"relative\",\"height\":600},                        {\"responsive\": true}                    ).then(function(){\n",
              "                            \n",
              "var gd = document.getElementById('d7f41034-0de5-4c96-aae1-e2da691c9b10');\n",
              "var x = new MutationObserver(function (mutations, observer) {{\n",
              "        var display = window.getComputedStyle(gd).display;\n",
              "        if (!display || display === 'none') {{\n",
              "            console.log([gd, 'removed!']);\n",
              "            Plotly.purge(gd);\n",
              "            observer.disconnect();\n",
              "        }}\n",
              "}});\n",
              "\n",
              "// Listen for the removal of the full notebook cells\n",
              "var notebookContainer = gd.closest('#notebook-container');\n",
              "if (notebookContainer) {{\n",
              "    x.observe(notebookContainer, {childList: true});\n",
              "}}\n",
              "\n",
              "// Listen for the clearing of the current output cell\n",
              "var outputEl = gd.closest('.output');\n",
              "if (outputEl) {{\n",
              "    x.observe(outputEl, {childList: true});\n",
              "}}\n",
              "\n",
              "                        })                };                            </script>        </div>\n",
              "</body>\n",
              "</html>"
            ]
          },
          "metadata": {}
        }
      ]
    },
    {
      "cell_type": "code",
      "metadata": {
        "colab": {
          "base_uri": "https://localhost:8080/",
          "height": 617
        },
        "id": "JR4K3PkwMAJ8",
        "outputId": "ffcc2a51-7e9c-44fd-bbcc-19a59a070143"
      },
      "source": [
        "df_agg = df_tweets[['date', 'tweet_url']].groupby('date')\\\n",
        "    .count() \\\n",
        "    .sort_values(['tweet_url'], ascending=False).reset_index()\n",
        "\n",
        "fig = px.area(df_agg, \n",
        "                x='date', y='tweet_url',\n",
        "                labels={'tweet_url':'Volume of Articles (Tweeted)', 'date':'Publish Date'}, \n",
        "                color_discrete_sequence=['green'],\n",
        "                height=600)\n",
        "\n",
        "fig.update_layout(title_text='Western Media Coverage of Ethiopia for 2019, 2020 and 2021 (Before and After the Conflict in the North)', title_x=0.5)\n",
        "\n",
        "fig.add_vrect(\n",
        "    x0='2019-11-03', \n",
        "    x1='2020-11-03', \n",
        "    fillcolor='blue', \n",
        "    opacity=0.15, \n",
        "    line_width=0,\n",
        "    annotation=dict(font_size=20, font_family=\"Tahoma\"),\n",
        "    annotation_text=\"Before the Conflict\", \n",
        "    annotation_position=\"top left\"\n",
        ")\n",
        "fig.add_vrect(\n",
        "    x0='2020-11-03', \n",
        "    x1='2021-11-18', \n",
        "    fillcolor='red', \n",
        "    opacity=0.15, \n",
        "    line_width=0,\n",
        "    annotation=dict(font_size=20, font_family=\"Tahoma\"),\n",
        "    annotation_text=\"After the Conflict\", \n",
        "    annotation_position=\"top left\"\n",
        ")\n",
        "fig.show()"
      ],
      "execution_count": 80,
      "outputs": [
        {
          "output_type": "display_data",
          "data": {
            "text/html": [
              "<html>\n",
              "<head><meta charset=\"utf-8\" /></head>\n",
              "<body>\n",
              "    <div>            <script src=\"https://cdnjs.cloudflare.com/ajax/libs/mathjax/2.7.5/MathJax.js?config=TeX-AMS-MML_SVG\"></script><script type=\"text/javascript\">if (window.MathJax) {MathJax.Hub.Config({SVG: {font: \"STIX-Web\"}});}</script>                <script type=\"text/javascript\">window.PlotlyConfig = {MathJaxConfig: 'local'};</script>\n",
              "        <script src=\"https://cdn.plot.ly/plotly-2.6.3.min.js\"></script>                <div id=\"8f634e09-9431-4411-8ae5-5d29b65f994c\" class=\"plotly-graph-div\" style=\"height:600px; width:100%;\"></div>            <script type=\"text/javascript\">                                    window.PLOTLYENV=window.PLOTLYENV || {};                                    if (document.getElementById(\"8f634e09-9431-4411-8ae5-5d29b65f994c\")) {                    Plotly.newPlot(                        \"8f634e09-9431-4411-8ae5-5d29b65f994c\",                        [{\"hovertemplate\":\"Publish Date=%{x}<br>Volume of Tweets (Articles)=%{y}<extra></extra>\",\"legendgroup\":\"\",\"line\":{\"color\":\"green\"},\"marker\":{\"symbol\":\"circle\"},\"mode\":\"lines\",\"name\":\"\",\"orientation\":\"v\",\"showlegend\":false,\"stackgroup\":\"1\",\"x\":[\"2021-11-03\",\"2021-06-29\",\"2021-11-05\",\"2020-11-25\",\"2020-11-13\",\"2020-11-15\",\"2020-11-28\",\"2021-11-04\",\"2020-11-17\",\"2020-11-19\",\"2020-11-12\",\"2021-11-06\",\"2020-11-27\",\"2020-11-18\",\"2020-11-30\",\"2020-11-20\",\"2020-11-04\",\"2021-07-02\",\"2020-11-06\",\"2021-11-02\",\"2021-06-30\",\"2020-11-23\",\"2021-11-10\",\"2021-06-16\",\"2020-11-16\",\"2021-03-26\",\"2021-11-09\",\"2020-11-05\",\"2020-11-22\",\"2020-11-24\",\"2020-11-14\",\"2020-11-26\",\"2021-06-21\",\"2020-11-29\",\"2021-05-24\",\"2021-04-02\",\"2021-06-23\",\"2021-11-01\",\"2020-12-01\",\"2021-10-01\",\"2021-06-11\",\"2021-03-04\",\"2021-05-28\",\"2020-11-10\",\"2021-11-17\",\"2021-10-20\",\"2021-07-30\",\"2020-12-11\",\"2021-10-06\",\"2021-03-02\",\"2021-11-12\",\"2021-09-30\",\"2021-11-11\",\"2020-12-04\",\"2021-09-17\",\"2021-07-06\",\"2020-12-02\",\"2021-08-06\",\"2021-11-08\",\"2021-07-01\",\"2021-06-24\",\"2021-04-07\",\"2020-11-11\",\"2021-07-19\",\"2021-03-23\",\"2021-08-03\",\"2021-06-10\",\"2020-12-09\",\"2021-04-23\",\"2020-11-09\",\"2021-10-07\",\"2021-05-21\",\"2021-05-22\",\"2020-11-08\",\"2020-07-15\",\"2021-11-18\",\"2021-02-26\",\"2021-11-16\",\"2021-07-13\",\"2020-11-07\",\"2021-08-23\",\"2021-08-20\",\"2020-12-08\",\"2021-11-13\",\"2021-05-04\",\"2021-04-15\",\"2021-10-12\",\"2021-07-27\",\"2021-08-11\",\"2021-09-16\",\"2021-06-28\",\"2021-09-08\",\"2021-01-22\",\"2021-10-13\",\"2020-12-05\",\"2021-06-22\",\"2021-10-18\",\"2021-01-13\",\"2021-07-14\",\"2021-08-04\",\"2021-03-13\",\"2021-04-04\",\"2020-07-05\",\"2021-10-04\",\"2021-05-27\",\"2020-07-01\",\"2020-10-24\",\"2021-10-22\",\"2020-11-21\",\"2021-03-29\",\"2021-03-03\",\"2021-04-08\",\"2020-12-10\",\"2021-04-26\",\"2021-05-07\",\"2021-11-07\",\"2020-07-16\",\"2021-08-13\",\"2021-02-28\",\"2021-07-03\",\"2021-07-04\",\"2021-06-25\",\"2021-06-14\",\"2021-07-28\",\"2020-12-23\",\"2021-10-09\",\"2020-06-27\",\"2020-12-25\",\"2021-02-05\",\"2021-03-19\",\"2020-12-18\",\"2021-06-17\",\"2021-02-25\",\"2021-08-05\",\"2021-09-09\",\"2020-12-22\",\"2021-04-06\",\"2021-07-07\",\"2021-03-25\",\"2021-10-19\",\"2021-04-01\",\"2021-10-24\",\"2021-03-24\",\"2020-07-02\",\"2021-07-29\",\"2021-04-27\",\"2020-12-03\",\"2021-05-05\",\"2020-04-01\",\"2021-03-06\",\"2021-11-15\",\"2021-10-11\",\"2021-01-31\",\"2020-12-16\",\"2020-12-07\",\"2021-02-01\",\"2020-09-19\",\"2021-07-23\",\"2021-08-12\",\"2021-06-15\",\"2020-07-04\",\"2019-12-10\",\"2021-05-12\",\"2021-02-12\",\"2020-09-18\",\"2020-12-06\",\"2020-12-24\",\"2020-12-12\",\"2020-08-12\",\"2021-01-08\",\"2021-03-10\",\"2021-02-04\",\"2020-01-16\",\"2021-05-17\",\"2020-09-09\",\"2021-03-20\",\"2021-08-07\",\"2020-04-08\",\"2021-05-30\",\"2021-05-14\",\"2021-04-22\",\"2021-05-25\",\"2021-07-17\",\"2021-06-04\",\"2021-08-31\",\"2021-01-26\",\"2021-04-17\",\"2021-06-09\",\"2021-07-16\",\"2021-06-12\",\"2021-09-29\",\"2020-07-03\",\"2020-03-22\",\"2021-05-26\",\"2020-12-14\",\"2021-04-30\",\"2021-08-10\",\"2020-07-22\",\"2021-05-15\",\"2021-04-09\",\"2021-10-14\",\"2021-09-06\",\"2020-07-21\",\"2021-07-31\",\"2021-05-09\",\"2020-12-13\",\"2020-12-15\",\"2020-02-13\",\"2020-09-11\",\"2021-08-19\",\"2020-02-18\",\"2021-07-08\",\"2020-07-28\",\"2021-08-26\",\"2020-12-17\",\"2021-03-11\",\"2021-09-07\",\"2020-08-28\",\"2021-10-21\",\"2020-08-18\",\"2021-10-15\",\"2021-10-28\",\"2021-02-06\",\"2020-02-29\",\"2020-10-05\",\"2020-10-04\",\"2020-06-23\",\"2021-03-18\",\"2021-01-06\",\"2020-03-09\",\"2020-06-30\",\"2021-10-05\",\"2020-10-06\",\"2020-10-26\",\"2020-10-27\",\"2020-10-20\",\"2021-05-08\",\"2020-07-07\",\"2021-07-22\",\"2021-06-01\",\"2021-06-03\",\"2020-07-06\",\"2020-02-26\",\"2021-07-05\",\"2021-07-11\",\"2021-07-15\",\"2021-07-25\",\"2021-04-16\",\"2020-01-20\",\"2019-12-09\",\"2019-12-02\",\"2021-10-23\",\"2021-10-30\",\"2021-11-14\",\"2019-11-07\",\"2021-05-13\",\"2021-06-05\",\"2021-02-02\",\"2020-12-28\",\"2021-01-14\",\"2021-02-17\",\"2020-06-18\",\"2021-02-11\",\"2021-01-23\",\"2021-02-10\",\"2020-09-24\",\"2021-01-11\",\"2021-10-29\",\"2021-10-25\",\"2021-01-15\",\"2021-09-22\",\"2021-09-20\",\"2021-02-08\",\"2021-08-02\",\"2021-04-05\",\"2021-02-09\",\"2021-07-12\",\"2021-07-10\",\"2021-07-09\",\"2021-02-18\",\"2021-06-07\",\"2021-02-27\",\"2021-03-01\",\"2021-04-03\",\"2020-09-26\",\"2019-11-01\",\"2020-06-10\",\"2020-04-24\",\"2020-03-31\",\"2020-04-16\",\"2020-06-26\",\"2020-09-10\",\"2020-03-24\",\"2020-03-04\",\"2020-04-11\",\"2020-03-13\",\"2019-12-20\",\"2019-12-21\",\"2020-02-01\",\"2019-11-03\",\"2020-08-13\",\"2020-01-10\",\"2020-12-19\",\"2021-06-13\",\"2021-03-15\",\"2019-11-02\",\"2021-03-16\",\"2021-09-02\",\"2021-08-24\",\"2020-08-11\",\"2021-03-27\",\"2021-06-02\",\"2021-09-01\",\"2020-12-30\",\"2021-03-12\",\"2021-01-18\",\"2020-02-14\",\"2021-07-18\",\"2021-02-13\",\"2020-02-19\",\"2021-01-27\",\"2021-01-21\",\"2021-02-23\",\"2020-01-28\",\"2021-03-08\",\"2020-05-29\",\"2021-01-09\",\"2021-01-07\",\"2021-03-05\",\"2021-01-01\",\"2020-12-31\",\"2021-08-08\",\"2021-05-31\",\"2021-04-29\",\"2020-09-07\",\"2020-10-30\",\"2020-10-07\",\"2019-12-07\",\"2019-11-22\",\"2019-11-23\",\"2021-05-18\",\"2021-10-08\",\"2021-04-24\",\"2020-10-02\",\"2021-05-23\",\"2021-05-01\",\"2021-05-10\",\"2021-06-20\",\"2021-04-20\",\"2019-11-20\",\"2019-11-24\",\"2021-10-31\",\"2020-01-22\",\"2020-04-13\",\"2020-06-20\",\"2020-01-15\",\"2021-09-25\",\"2021-01-19\",\"2020-09-20\",\"2021-02-19\",\"2020-02-23\",\"2021-01-24\",\"2020-02-22\",\"2020-09-21\",\"2020-09-22\",\"2021-01-28\",\"2021-07-20\",\"2020-06-14\",\"2020-06-12\",\"2021-04-28\",\"2021-05-11\",\"2020-12-29\",\"2021-03-09\",\"2020-05-21\",\"2021-09-13\",\"2021-10-02\",\"2020-09-02\",\"2021-09-10\",\"2020-09-04\",\"2020-05-12\",\"2020-05-13\",\"2020-06-09\",\"2021-10-03\",\"2020-04-10\",\"2021-08-28\",\"2021-08-27\",\"2020-03-25\",\"2020-01-09\",\"2019-12-11\",\"2020-11-03\",\"2019-12-12\",\"2020-11-02\",\"2020-03-14\",\"2021-08-21\",\"2021-08-18\",\"2021-05-06\",\"2021-05-29\",\"2021-03-31\",\"2021-03-30\",\"2020-05-06\",\"2021-05-02\",\"2020-02-20\",\"2021-05-20\",\"2021-04-12\",\"2021-03-07\",\"2021-04-21\",\"2021-03-22\",\"2020-03-10\",\"2020-05-28\",\"2020-03-03\",\"2020-03-16\",\"2021-06-26\",\"2021-04-11\",\"2020-03-23\",\"2021-04-25\",\"2021-02-07\",\"2019-12-30\",\"2020-12-26\",\"2020-07-08\",\"2020-07-13\",\"2021-08-22\",\"2020-07-17\",\"2020-07-18\",\"2020-07-23\",\"2021-08-29\",\"2021-09-05\",\"2021-09-15\",\"2021-01-03\",\"2021-09-23\",\"2021-09-27\",\"2021-09-28\",\"2020-09-03\",\"2020-09-05\",\"2019-12-18\",\"2021-10-26\",\"2019-11-08\",\"2019-11-06\",\"2021-01-02\",\"2021-09-03\",\"2021-01-04\",\"2021-01-10\",\"2020-06-11\",\"2020-02-04\",\"2021-07-21\",\"2021-01-29\",\"2021-07-24\",\"2021-01-20\",\"2021-07-26\",\"2020-06-21\",\"2019-12-03\",\"2020-04-09\",\"2021-08-09\",\"2019-12-17\",\"2019-12-16\",\"2021-10-10\",\"2021-10-16\",\"2021-10-17\",\"2019-12-06\",\"2020-04-14\",\"2019-11-30\",\"2021-05-19\",\"2020-01-17\",\"2019-11-21\",\"2019-11-18\",\"2020-04-17\",\"2019-11-16\",\"2021-05-03\",\"2019-11-09\",\"2020-02-12\",\"2020-02-08\",\"2020-03-08\",\"2020-01-18\",\"2020-01-21\",\"2019-12-31\",\"2020-04-18\",\"2020-01-07\",\"2021-06-08\",\"2020-01-25\",\"2021-08-16\",\"2020-02-07\",\"2020-03-02\",\"2020-03-26\",\"2020-01-03\",\"2020-02-25\",\"2020-04-05\",\"2021-09-11\",\"2020-03-27\",\"2020-01-30\",\"2021-09-18\",\"2021-09-21\",\"2019-12-23\",\"2021-06-18\",\"2020-03-06\",\"2020-02-21\",\"2020-01-12\",\"2020-09-25\",\"2020-10-23\",\"2020-10-18\",\"2020-06-29\",\"2020-07-10\",\"2020-10-25\",\"2020-10-28\",\"2020-12-21\",\"2021-03-28\",\"2020-08-20\",\"2020-05-20\",\"2020-07-14\",\"2021-02-14\",\"2020-07-19\",\"2021-02-16\",\"2020-05-18\",\"2020-08-31\",\"2020-06-02\",\"2020-07-20\",\"2020-07-24\",\"2020-09-17\",\"2020-10-19\",\"2020-08-16\",\"2020-07-30\",\"2020-08-03\",\"2020-04-22\",\"2021-04-19\",\"2020-08-15\",\"2020-09-29\",\"2020-10-01\",\"2020-10-03\",\"2020-04-28\",\"2020-08-02\",\"2021-04-13\",\"2021-04-10\",\"2020-04-30\",\"2020-10-09\",\"2020-06-24\",\"2020-10-12\",\"2020-10-13\",\"2020-04-21\",\"2021-03-14\",\"2020-07-25\",\"2021-08-30\",\"2020-07-27\",\"2020-06-28\",\"2020-07-11\",\"2020-12-20\",\"2020-08-10\",\"2020-07-09\",\"2020-01-13\",\"2021-01-12\",\"2021-08-01\",\"2020-01-26\",\"2020-01-27\",\"2020-08-09\",\"2020-08-21\",\"2021-09-12\",\"2020-08-14\",\"2020-09-27\",\"2019-11-04\",\"2019-11-13\",\"2019-11-15\",\"2019-11-19\",\"2020-10-15\",\"2020-10-16\",\"2020-10-22\",\"2019-12-04\",\"2019-12-05\",\"2020-10-29\",\"2019-12-14\",\"2020-11-01\",\"2020-09-13\",\"2020-09-12\",\"2020-09-08\",\"2020-09-06\",\"2019-12-22\",\"2020-08-25\",\"2021-01-25\",\"2021-09-24\",\"2020-08-17\",\"2019-12-26\",\"2019-12-27\",\"2019-12-28\",\"2020-06-19\",\"2021-11-19\",\"2021-02-20\",\"2020-05-09\",\"2020-05-02\",\"2021-06-19\",\"2020-02-11\",\"2020-06-05\",\"2020-06-03\",\"2020-02-15\",\"2020-05-23\",\"2020-04-06\",\"2020-03-29\",\"2020-05-05\",\"2020-05-27\",\"2020-02-27\",\"2020-03-01\",\"2020-04-04\",\"2021-06-27\",\"2020-05-01\",\"2020-02-10\",\"2020-06-08\",\"2021-04-14\",\"2021-04-18\",\"2020-03-19\",\"2020-05-16\",\"2021-03-17\",\"2021-05-16\",\"2020-05-19\",\"2020-05-07\",\"2020-06-13\",\"2020-03-12\",\"2020-04-12\",\"2020-02-06\",\"2020-05-11\",\"2019-12-13\",\"2020-05-15\",\"2019-12-08\",\"2021-03-21\",\"2020-09-15\",\"2020-03-30\",\"2020-05-08\",\"2020-09-16\",\"2021-06-06\",\"2020-09-14\",\"2020-01-31\",\"2020-04-02\",\"2020-04-03\",\"2020-09-23\",\"2020-04-15\",\"2020-04-26\",\"2020-04-27\",\"2019-11-10\",\"2019-11-11\",\"2019-11-14\",\"2020-10-08\",\"2019-11-17\",\"2020-04-07\",\"2020-10-14\",\"2020-05-03\",\"2020-05-04\",\"2019-11-26\",\"2019-11-27\",\"2020-05-17\",\"2019-11-28\",\"2019-11-29\",\"2019-12-01\",\"2019-12-19\",\"2020-08-19\",\"2020-09-01\",\"2021-01-05\",\"2021-02-15\",\"2020-01-08\",\"2020-02-16\",\"2021-08-17\",\"2021-08-14\",\"2020-01-11\",\"2020-06-06\",\"2020-01-14\",\"2020-12-27\",\"2020-06-25\",\"2020-06-01\",\"2021-02-03\",\"2020-06-22\",\"2020-01-23\",\"2020-06-15\",\"2021-01-16\",\"2021-01-30\",\"2020-02-03\",\"2021-01-17\",\"2020-06-16\",\"2021-08-25\",\"2020-02-24\",\"2020-03-20\",\"2020-03-07\",\"2020-08-27\",\"2020-08-26\",\"2020-03-18\",\"2020-06-17\",\"2020-03-11\",\"2020-05-22\",\"2020-05-24\",\"2020-05-25\",\"2021-09-14\",\"2020-05-30\",\"2020-07-26\",\"2020-05-31\",\"2020-08-06\",\"2021-02-24\",\"2020-01-04\",\"2020-08-01\",\"2021-09-04\",\"2020-07-31\",\"2021-02-21\",\"2020-01-06\",\"2020-04-19\"],\"xaxis\":\"x\",\"y\":[52,50,49,49,47,46,45,44,43,43,41,39,37,37,36,36,36,35,35,34,34,34,34,33,33,33,32,32,32,32,31,31,31,30,29,29,29,29,29,28,28,28,28,27,27,27,26,26,26,25,25,25,25,25,25,24,24,24,24,23,23,23,22,22,22,22,22,21,21,21,21,21,21,21,20,20,20,20,20,19,19,19,19,19,19,19,18,18,18,18,18,17,17,17,17,17,17,17,17,17,16,16,16,16,16,16,16,16,15,15,15,15,15,15,15,15,15,15,15,15,15,15,15,14,14,14,14,14,14,14,14,13,13,13,13,13,13,13,13,13,13,13,12,12,12,12,12,12,12,12,12,12,12,12,12,12,12,12,12,12,12,12,12,12,11,11,11,11,11,11,11,11,11,11,11,11,11,11,11,11,11,11,11,11,10,10,10,10,10,10,10,10,10,10,10,10,10,10,10,10,10,10,10,10,10,10,9,9,9,9,9,9,9,9,9,9,9,9,9,9,9,9,9,9,9,9,9,9,9,9,9,9,8,8,8,8,8,8,8,8,8,8,8,8,8,8,8,8,8,8,8,8,8,8,8,8,8,8,8,8,8,8,8,8,8,7,7,7,7,7,7,7,7,7,7,7,7,7,7,7,7,7,7,7,7,7,7,7,7,7,7,7,7,7,7,7,7,7,7,7,7,6,6,6,6,6,6,6,6,6,6,6,6,6,6,6,6,6,6,6,6,6,6,6,6,6,6,6,6,6,6,6,6,6,6,6,6,6,6,6,6,6,6,6,6,6,6,5,5,5,5,5,5,5,5,5,5,5,5,5,5,5,5,5,5,5,5,5,5,5,5,5,5,5,5,5,5,5,5,5,5,5,5,5,5,5,5,5,5,5,5,5,5,5,5,4,4,4,4,4,4,4,4,4,4,4,4,4,4,4,4,4,4,4,4,4,4,4,4,4,4,4,4,4,4,4,4,4,4,4,4,4,4,4,4,4,4,4,4,4,4,4,4,4,4,4,4,4,4,3,3,3,3,3,3,3,3,3,3,3,3,3,3,3,3,3,3,3,3,3,3,3,3,3,3,3,3,3,3,3,3,3,3,3,3,3,3,3,3,3,3,3,3,3,3,3,3,3,3,3,3,3,3,3,3,3,3,3,3,3,3,3,3,3,3,3,3,3,3,3,3,3,3,3,3,3,3,3,3,3,3,3,3,3,3,3,3,2,2,2,2,2,2,2,2,2,2,2,2,2,2,2,2,2,2,2,2,2,2,2,2,2,2,2,2,2,2,2,2,2,2,2,2,2,2,2,2,2,2,2,2,2,2,2,2,2,2,2,2,2,2,2,2,2,2,2,2,2,2,2,2,2,2,2,2,2,2,2,2,2,2,2,2,2,1,1,1,1,1,1,1,1,1,1,1,1,1,1,1,1,1,1,1,1,1,1,1,1,1,1,1,1,1,1,1,1,1,1,1,1,1,1,1,1,1,1,1,1,1,1,1,1,1,1,1,1,1,1,1,1,1,1,1,1,1,1,1,1,1,1,1,1,1,1,1,1,1,1,1,1,1,1,1,1,1],\"yaxis\":\"y\",\"type\":\"scatter\"}],                        {\"template\":{\"data\":{\"bar\":[{\"error_x\":{\"color\":\"#2a3f5f\"},\"error_y\":{\"color\":\"#2a3f5f\"},\"marker\":{\"line\":{\"color\":\"#E5ECF6\",\"width\":0.5},\"pattern\":{\"fillmode\":\"overlay\",\"size\":10,\"solidity\":0.2}},\"type\":\"bar\"}],\"barpolar\":[{\"marker\":{\"line\":{\"color\":\"#E5ECF6\",\"width\":0.5},\"pattern\":{\"fillmode\":\"overlay\",\"size\":10,\"solidity\":0.2}},\"type\":\"barpolar\"}],\"carpet\":[{\"aaxis\":{\"endlinecolor\":\"#2a3f5f\",\"gridcolor\":\"white\",\"linecolor\":\"white\",\"minorgridcolor\":\"white\",\"startlinecolor\":\"#2a3f5f\"},\"baxis\":{\"endlinecolor\":\"#2a3f5f\",\"gridcolor\":\"white\",\"linecolor\":\"white\",\"minorgridcolor\":\"white\",\"startlinecolor\":\"#2a3f5f\"},\"type\":\"carpet\"}],\"choropleth\":[{\"colorbar\":{\"outlinewidth\":0,\"ticks\":\"\"},\"type\":\"choropleth\"}],\"contour\":[{\"colorbar\":{\"outlinewidth\":0,\"ticks\":\"\"},\"colorscale\":[[0.0,\"#0d0887\"],[0.1111111111111111,\"#46039f\"],[0.2222222222222222,\"#7201a8\"],[0.3333333333333333,\"#9c179e\"],[0.4444444444444444,\"#bd3786\"],[0.5555555555555556,\"#d8576b\"],[0.6666666666666666,\"#ed7953\"],[0.7777777777777778,\"#fb9f3a\"],[0.8888888888888888,\"#fdca26\"],[1.0,\"#f0f921\"]],\"type\":\"contour\"}],\"contourcarpet\":[{\"colorbar\":{\"outlinewidth\":0,\"ticks\":\"\"},\"type\":\"contourcarpet\"}],\"heatmap\":[{\"colorbar\":{\"outlinewidth\":0,\"ticks\":\"\"},\"colorscale\":[[0.0,\"#0d0887\"],[0.1111111111111111,\"#46039f\"],[0.2222222222222222,\"#7201a8\"],[0.3333333333333333,\"#9c179e\"],[0.4444444444444444,\"#bd3786\"],[0.5555555555555556,\"#d8576b\"],[0.6666666666666666,\"#ed7953\"],[0.7777777777777778,\"#fb9f3a\"],[0.8888888888888888,\"#fdca26\"],[1.0,\"#f0f921\"]],\"type\":\"heatmap\"}],\"heatmapgl\":[{\"colorbar\":{\"outlinewidth\":0,\"ticks\":\"\"},\"colorscale\":[[0.0,\"#0d0887\"],[0.1111111111111111,\"#46039f\"],[0.2222222222222222,\"#7201a8\"],[0.3333333333333333,\"#9c179e\"],[0.4444444444444444,\"#bd3786\"],[0.5555555555555556,\"#d8576b\"],[0.6666666666666666,\"#ed7953\"],[0.7777777777777778,\"#fb9f3a\"],[0.8888888888888888,\"#fdca26\"],[1.0,\"#f0f921\"]],\"type\":\"heatmapgl\"}],\"histogram\":[{\"marker\":{\"pattern\":{\"fillmode\":\"overlay\",\"size\":10,\"solidity\":0.2}},\"type\":\"histogram\"}],\"histogram2d\":[{\"colorbar\":{\"outlinewidth\":0,\"ticks\":\"\"},\"colorscale\":[[0.0,\"#0d0887\"],[0.1111111111111111,\"#46039f\"],[0.2222222222222222,\"#7201a8\"],[0.3333333333333333,\"#9c179e\"],[0.4444444444444444,\"#bd3786\"],[0.5555555555555556,\"#d8576b\"],[0.6666666666666666,\"#ed7953\"],[0.7777777777777778,\"#fb9f3a\"],[0.8888888888888888,\"#fdca26\"],[1.0,\"#f0f921\"]],\"type\":\"histogram2d\"}],\"histogram2dcontour\":[{\"colorbar\":{\"outlinewidth\":0,\"ticks\":\"\"},\"colorscale\":[[0.0,\"#0d0887\"],[0.1111111111111111,\"#46039f\"],[0.2222222222222222,\"#7201a8\"],[0.3333333333333333,\"#9c179e\"],[0.4444444444444444,\"#bd3786\"],[0.5555555555555556,\"#d8576b\"],[0.6666666666666666,\"#ed7953\"],[0.7777777777777778,\"#fb9f3a\"],[0.8888888888888888,\"#fdca26\"],[1.0,\"#f0f921\"]],\"type\":\"histogram2dcontour\"}],\"mesh3d\":[{\"colorbar\":{\"outlinewidth\":0,\"ticks\":\"\"},\"type\":\"mesh3d\"}],\"parcoords\":[{\"line\":{\"colorbar\":{\"outlinewidth\":0,\"ticks\":\"\"}},\"type\":\"parcoords\"}],\"pie\":[{\"automargin\":true,\"type\":\"pie\"}],\"scatter\":[{\"marker\":{\"colorbar\":{\"outlinewidth\":0,\"ticks\":\"\"}},\"type\":\"scatter\"}],\"scatter3d\":[{\"line\":{\"colorbar\":{\"outlinewidth\":0,\"ticks\":\"\"}},\"marker\":{\"colorbar\":{\"outlinewidth\":0,\"ticks\":\"\"}},\"type\":\"scatter3d\"}],\"scattercarpet\":[{\"marker\":{\"colorbar\":{\"outlinewidth\":0,\"ticks\":\"\"}},\"type\":\"scattercarpet\"}],\"scattergeo\":[{\"marker\":{\"colorbar\":{\"outlinewidth\":0,\"ticks\":\"\"}},\"type\":\"scattergeo\"}],\"scattergl\":[{\"marker\":{\"colorbar\":{\"outlinewidth\":0,\"ticks\":\"\"}},\"type\":\"scattergl\"}],\"scattermapbox\":[{\"marker\":{\"colorbar\":{\"outlinewidth\":0,\"ticks\":\"\"}},\"type\":\"scattermapbox\"}],\"scatterpolar\":[{\"marker\":{\"colorbar\":{\"outlinewidth\":0,\"ticks\":\"\"}},\"type\":\"scatterpolar\"}],\"scatterpolargl\":[{\"marker\":{\"colorbar\":{\"outlinewidth\":0,\"ticks\":\"\"}},\"type\":\"scatterpolargl\"}],\"scatterternary\":[{\"marker\":{\"colorbar\":{\"outlinewidth\":0,\"ticks\":\"\"}},\"type\":\"scatterternary\"}],\"surface\":[{\"colorbar\":{\"outlinewidth\":0,\"ticks\":\"\"},\"colorscale\":[[0.0,\"#0d0887\"],[0.1111111111111111,\"#46039f\"],[0.2222222222222222,\"#7201a8\"],[0.3333333333333333,\"#9c179e\"],[0.4444444444444444,\"#bd3786\"],[0.5555555555555556,\"#d8576b\"],[0.6666666666666666,\"#ed7953\"],[0.7777777777777778,\"#fb9f3a\"],[0.8888888888888888,\"#fdca26\"],[1.0,\"#f0f921\"]],\"type\":\"surface\"}],\"table\":[{\"cells\":{\"fill\":{\"color\":\"#EBF0F8\"},\"line\":{\"color\":\"white\"}},\"header\":{\"fill\":{\"color\":\"#C8D4E3\"},\"line\":{\"color\":\"white\"}},\"type\":\"table\"}]},\"layout\":{\"annotationdefaults\":{\"arrowcolor\":\"#2a3f5f\",\"arrowhead\":0,\"arrowwidth\":1},\"autotypenumbers\":\"strict\",\"coloraxis\":{\"colorbar\":{\"outlinewidth\":0,\"ticks\":\"\"}},\"colorscale\":{\"diverging\":[[0,\"#8e0152\"],[0.1,\"#c51b7d\"],[0.2,\"#de77ae\"],[0.3,\"#f1b6da\"],[0.4,\"#fde0ef\"],[0.5,\"#f7f7f7\"],[0.6,\"#e6f5d0\"],[0.7,\"#b8e186\"],[0.8,\"#7fbc41\"],[0.9,\"#4d9221\"],[1,\"#276419\"]],\"sequential\":[[0.0,\"#0d0887\"],[0.1111111111111111,\"#46039f\"],[0.2222222222222222,\"#7201a8\"],[0.3333333333333333,\"#9c179e\"],[0.4444444444444444,\"#bd3786\"],[0.5555555555555556,\"#d8576b\"],[0.6666666666666666,\"#ed7953\"],[0.7777777777777778,\"#fb9f3a\"],[0.8888888888888888,\"#fdca26\"],[1.0,\"#f0f921\"]],\"sequentialminus\":[[0.0,\"#0d0887\"],[0.1111111111111111,\"#46039f\"],[0.2222222222222222,\"#7201a8\"],[0.3333333333333333,\"#9c179e\"],[0.4444444444444444,\"#bd3786\"],[0.5555555555555556,\"#d8576b\"],[0.6666666666666666,\"#ed7953\"],[0.7777777777777778,\"#fb9f3a\"],[0.8888888888888888,\"#fdca26\"],[1.0,\"#f0f921\"]]},\"colorway\":[\"#636efa\",\"#EF553B\",\"#00cc96\",\"#ab63fa\",\"#FFA15A\",\"#19d3f3\",\"#FF6692\",\"#B6E880\",\"#FF97FF\",\"#FECB52\"],\"font\":{\"color\":\"#2a3f5f\"},\"geo\":{\"bgcolor\":\"white\",\"lakecolor\":\"white\",\"landcolor\":\"#E5ECF6\",\"showlakes\":true,\"showland\":true,\"subunitcolor\":\"white\"},\"hoverlabel\":{\"align\":\"left\"},\"hovermode\":\"closest\",\"mapbox\":{\"style\":\"light\"},\"paper_bgcolor\":\"white\",\"plot_bgcolor\":\"#E5ECF6\",\"polar\":{\"angularaxis\":{\"gridcolor\":\"white\",\"linecolor\":\"white\",\"ticks\":\"\"},\"bgcolor\":\"#E5ECF6\",\"radialaxis\":{\"gridcolor\":\"white\",\"linecolor\":\"white\",\"ticks\":\"\"}},\"scene\":{\"xaxis\":{\"backgroundcolor\":\"#E5ECF6\",\"gridcolor\":\"white\",\"gridwidth\":2,\"linecolor\":\"white\",\"showbackground\":true,\"ticks\":\"\",\"zerolinecolor\":\"white\"},\"yaxis\":{\"backgroundcolor\":\"#E5ECF6\",\"gridcolor\":\"white\",\"gridwidth\":2,\"linecolor\":\"white\",\"showbackground\":true,\"ticks\":\"\",\"zerolinecolor\":\"white\"},\"zaxis\":{\"backgroundcolor\":\"#E5ECF6\",\"gridcolor\":\"white\",\"gridwidth\":2,\"linecolor\":\"white\",\"showbackground\":true,\"ticks\":\"\",\"zerolinecolor\":\"white\"}},\"shapedefaults\":{\"line\":{\"color\":\"#2a3f5f\"}},\"ternary\":{\"aaxis\":{\"gridcolor\":\"white\",\"linecolor\":\"white\",\"ticks\":\"\"},\"baxis\":{\"gridcolor\":\"white\",\"linecolor\":\"white\",\"ticks\":\"\"},\"bgcolor\":\"#E5ECF6\",\"caxis\":{\"gridcolor\":\"white\",\"linecolor\":\"white\",\"ticks\":\"\"}},\"title\":{\"x\":0.05},\"xaxis\":{\"automargin\":true,\"gridcolor\":\"white\",\"linecolor\":\"white\",\"ticks\":\"\",\"title\":{\"standoff\":15},\"zerolinecolor\":\"white\",\"zerolinewidth\":2},\"yaxis\":{\"automargin\":true,\"gridcolor\":\"white\",\"linecolor\":\"white\",\"ticks\":\"\",\"title\":{\"standoff\":15},\"zerolinecolor\":\"white\",\"zerolinewidth\":2}}},\"xaxis\":{\"anchor\":\"y\",\"domain\":[0.0,1.0],\"title\":{\"text\":\"Publish Date\"}},\"yaxis\":{\"anchor\":\"x\",\"domain\":[0.0,1.0],\"title\":{\"text\":\"Volume of Tweets (Articles)\"}},\"legend\":{\"tracegroupgap\":0},\"margin\":{\"t\":60},\"height\":600,\"title\":{\"text\":\"Western Media Coverage of Ethiopia for 2019, 2020 and 2021 (Before and After the Conflict in the North)\",\"x\":0.5},\"shapes\":[{\"fillcolor\":\"blue\",\"line\":{\"width\":0},\"opacity\":0.15,\"type\":\"rect\",\"x0\":\"2019-11-03\",\"x1\":\"2020-11-03\",\"xref\":\"x\",\"y0\":0,\"y1\":1,\"yref\":\"y domain\"},{\"fillcolor\":\"red\",\"line\":{\"width\":0},\"opacity\":0.15,\"type\":\"rect\",\"x0\":\"2020-11-03\",\"x1\":\"2021-11-18\",\"xref\":\"x\",\"y0\":0,\"y1\":1,\"yref\":\"y domain\"}],\"annotations\":[{\"font\":{\"family\":\"Tahoma\",\"size\":20},\"showarrow\":false,\"text\":\"Before the Conflict\",\"x\":\"2019-11-03\",\"xanchor\":\"left\",\"xref\":\"x\",\"y\":1,\"yanchor\":\"top\",\"yref\":\"y domain\"},{\"font\":{\"family\":\"Tahoma\",\"size\":20},\"showarrow\":false,\"text\":\"After the Conflict\",\"x\":\"2020-11-03\",\"xanchor\":\"left\",\"xref\":\"x\",\"y\":1,\"yanchor\":\"top\",\"yref\":\"y domain\"}]},                        {\"responsive\": true}                    ).then(function(){\n",
              "                            \n",
              "var gd = document.getElementById('8f634e09-9431-4411-8ae5-5d29b65f994c');\n",
              "var x = new MutationObserver(function (mutations, observer) {{\n",
              "        var display = window.getComputedStyle(gd).display;\n",
              "        if (!display || display === 'none') {{\n",
              "            console.log([gd, 'removed!']);\n",
              "            Plotly.purge(gd);\n",
              "            observer.disconnect();\n",
              "        }}\n",
              "}});\n",
              "\n",
              "// Listen for the removal of the full notebook cells\n",
              "var notebookContainer = gd.closest('#notebook-container');\n",
              "if (notebookContainer) {{\n",
              "    x.observe(notebookContainer, {childList: true});\n",
              "}}\n",
              "\n",
              "// Listen for the clearing of the current output cell\n",
              "var outputEl = gd.closest('.output');\n",
              "if (outputEl) {{\n",
              "    x.observe(outputEl, {childList: true});\n",
              "}}\n",
              "\n",
              "                        })                };                            </script>        </div>\n",
              "</body>\n",
              "</html>"
            ]
          },
          "metadata": {}
        }
      ]
    },
    {
      "cell_type": "code",
      "metadata": {
        "colab": {
          "base_uri": "https://localhost:8080/",
          "height": 204
        },
        "id": "nxKXHX9_Ylex",
        "outputId": "c3bb2336-fbf7-46c5-9723-10191dfc02a3"
      },
      "source": [
        "df_agg.head()"
      ],
      "execution_count": 33,
      "outputs": [
        {
          "output_type": "execute_result",
          "data": {
            "text/html": [
              "<div>\n",
              "<style scoped>\n",
              "    .dataframe tbody tr th:only-of-type {\n",
              "        vertical-align: middle;\n",
              "    }\n",
              "\n",
              "    .dataframe tbody tr th {\n",
              "        vertical-align: top;\n",
              "    }\n",
              "\n",
              "    .dataframe thead th {\n",
              "        text-align: right;\n",
              "    }\n",
              "</style>\n",
              "<table border=\"1\" class=\"dataframe\">\n",
              "  <thead>\n",
              "    <tr style=\"text-align: right;\">\n",
              "      <th></th>\n",
              "      <th>media_organization</th>\n",
              "      <th>tweet_url</th>\n",
              "    </tr>\n",
              "  </thead>\n",
              "  <tbody>\n",
              "    <tr>\n",
              "      <th>0</th>\n",
              "      <td>Reuters</td>\n",
              "      <td>1875</td>\n",
              "    </tr>\n",
              "    <tr>\n",
              "      <th>1</th>\n",
              "      <td>AFP</td>\n",
              "      <td>759</td>\n",
              "    </tr>\n",
              "    <tr>\n",
              "      <th>2</th>\n",
              "      <td>Bloomberg</td>\n",
              "      <td>747</td>\n",
              "    </tr>\n",
              "    <tr>\n",
              "      <th>3</th>\n",
              "      <td>VOA</td>\n",
              "      <td>476</td>\n",
              "    </tr>\n",
              "    <tr>\n",
              "      <th>4</th>\n",
              "      <td>Aljazeera</td>\n",
              "      <td>384</td>\n",
              "    </tr>\n",
              "  </tbody>\n",
              "</table>\n",
              "</div>"
            ],
            "text/plain": [
              "  media_organization  tweet_url\n",
              "0            Reuters       1875\n",
              "1                AFP        759\n",
              "2          Bloomberg        747\n",
              "3                VOA        476\n",
              "4          Aljazeera        384"
            ]
          },
          "metadata": {},
          "execution_count": 33
        }
      ]
    },
    {
      "cell_type": "code",
      "metadata": {
        "colab": {
          "base_uri": "https://localhost:8080/",
          "height": 617
        },
        "id": "fjplbDKZRFTI",
        "outputId": "fafd9b82-132d-4b8f-fe53-6d4e38f9332e"
      },
      "source": [
        "df_agg = df_tweets[df_tweets.datetime > '2020-10-15'][['date', 'tweet_url']].groupby('date')\\\n",
        "    .count() \\\n",
        "    .sort_values(['tweet_url'], ascending=False).reset_index()\n",
        "\n",
        "\n",
        "fig = px.area(df_agg, \n",
        "                x='date', y='tweet_url',\n",
        "                labels={'tweet_url':'Volume of Articles (Tweeted)', 'date':'Publish Date'}, \n",
        "                color_discrete_sequence=['green'],\n",
        "                height=600\n",
        "            )\n",
        "\n",
        "fig.update_layout(title_text='Western Media Coverage of Ethiopia after the Conflict in the North Began (2020 and 2021)', title_x=0.5)\n",
        "\n",
        "\n",
        "fig.add_vrect(\n",
        "    x0='2020-11-05', \n",
        "    x1='2020-11-28', \n",
        "    fillcolor='orange', \n",
        "    opacity=0.25, \n",
        "    line_width=0,\n",
        "    annotation=dict(font_size=12, font_color='darkred', font_family=\"Tahoma\"),\n",
        "    annotation_text=\"TPLF Attacks, ENDF Responds\", \n",
        "    # annotation_position=\"top right\"\n",
        ")\n",
        "\n",
        "fig.add_vrect(\n",
        "    x0='2021-06-28', \n",
        "    x1='2021-07-02', \n",
        "    fillcolor='yellow', \n",
        "    opacity=0.50, \n",
        "    line_width=0,\n",
        "    annotation=dict(font_size=12, font_color='brown', font_family=\"Tahoma\"),\n",
        "    annotation_text=\"Unilateral Ceasefire\", \n",
        "    # annotation_position=\"top right\"\n",
        ")\n",
        "fig.add_vrect(\n",
        "    x0='2021-11-02', \n",
        "    x1='2021-11-06', \n",
        "    fillcolor='red', \n",
        "    opacity=0.25, \n",
        "    line_width=0,\n",
        "    annotation=dict(font_size=12, font_color='darkred', font_family=\"Tahoma\"),\n",
        "    annotation_text=\"TPLF is Marching to Addis Hysteria \", \n",
        "    # annotation_position=\"top right\"\n",
        ")\n",
        "fig.show()"
      ],
      "execution_count": 83,
      "outputs": [
        {
          "output_type": "display_data",
          "data": {
            "text/html": [
              "<html>\n",
              "<head><meta charset=\"utf-8\" /></head>\n",
              "<body>\n",
              "    <div>            <script src=\"https://cdnjs.cloudflare.com/ajax/libs/mathjax/2.7.5/MathJax.js?config=TeX-AMS-MML_SVG\"></script><script type=\"text/javascript\">if (window.MathJax) {MathJax.Hub.Config({SVG: {font: \"STIX-Web\"}});}</script>                <script type=\"text/javascript\">window.PlotlyConfig = {MathJaxConfig: 'local'};</script>\n",
              "        <script src=\"https://cdn.plot.ly/plotly-2.6.3.min.js\"></script>                <div id=\"3df7536d-1a96-4a12-9c5f-f24a936d017f\" class=\"plotly-graph-div\" style=\"height:600px; width:100%;\"></div>            <script type=\"text/javascript\">                                    window.PLOTLYENV=window.PLOTLYENV || {};                                    if (document.getElementById(\"3df7536d-1a96-4a12-9c5f-f24a936d017f\")) {                    Plotly.newPlot(                        \"3df7536d-1a96-4a12-9c5f-f24a936d017f\",                        [{\"hovertemplate\":\"Publish Date=%{x}<br>Volume of Articles (Tweeted)=%{y}<extra></extra>\",\"legendgroup\":\"\",\"line\":{\"color\":\"green\"},\"marker\":{\"symbol\":\"circle\"},\"mode\":\"lines\",\"name\":\"\",\"orientation\":\"v\",\"showlegend\":false,\"stackgroup\":\"1\",\"x\":[\"2021-11-03\",\"2021-06-29\",\"2020-11-25\",\"2021-11-05\",\"2020-11-13\",\"2020-11-15\",\"2020-11-28\",\"2021-11-04\",\"2020-11-19\",\"2020-11-17\",\"2020-11-12\",\"2021-11-06\",\"2020-11-27\",\"2020-11-18\",\"2020-11-30\",\"2020-11-04\",\"2020-11-20\",\"2021-07-02\",\"2020-11-06\",\"2020-11-23\",\"2021-06-30\",\"2021-11-10\",\"2021-11-02\",\"2021-06-16\",\"2021-03-26\",\"2020-11-16\",\"2020-11-24\",\"2020-11-22\",\"2020-11-05\",\"2021-11-09\",\"2021-06-21\",\"2020-11-26\",\"2020-11-14\",\"2020-11-29\",\"2021-05-24\",\"2021-06-23\",\"2021-11-01\",\"2020-12-01\",\"2021-04-02\",\"2021-10-01\",\"2021-06-11\",\"2021-03-04\",\"2021-05-28\",\"2020-11-10\",\"2021-10-20\",\"2021-11-17\",\"2021-07-30\",\"2021-10-06\",\"2020-12-11\",\"2021-09-17\",\"2021-09-30\",\"2021-11-12\",\"2020-12-04\",\"2021-11-11\",\"2021-03-02\",\"2021-11-08\",\"2021-08-06\",\"2020-12-02\",\"2021-07-06\",\"2021-06-24\",\"2021-04-07\",\"2021-07-01\",\"2021-06-10\",\"2021-03-23\",\"2021-07-19\",\"2020-11-11\",\"2021-08-03\",\"2020-11-09\",\"2021-10-07\",\"2020-12-09\",\"2021-05-22\",\"2021-05-21\",\"2021-04-23\",\"2020-11-08\",\"2021-11-18\",\"2021-11-16\",\"2021-07-13\",\"2021-02-26\",\"2021-11-13\",\"2021-04-15\",\"2021-05-04\",\"2020-12-08\",\"2020-11-07\",\"2021-08-20\",\"2021-08-23\",\"2021-06-28\",\"2021-07-27\",\"2021-08-11\",\"2021-09-16\",\"2021-10-12\",\"2021-06-22\",\"2021-07-14\",\"2021-01-22\",\"2021-10-18\",\"2021-09-08\",\"2021-08-04\",\"2021-10-13\",\"2021-01-13\",\"2020-12-05\",\"2021-05-27\",\"2021-10-04\",\"2021-03-13\",\"2021-04-04\",\"2020-10-24\",\"2021-10-22\",\"2021-07-03\",\"2021-06-14\",\"2021-05-07\",\"2020-12-10\",\"2021-08-13\",\"2021-03-03\",\"2020-11-21\",\"2021-07-04\",\"2021-04-26\",\"2021-02-28\",\"2021-04-08\",\"2021-03-29\",\"2021-06-25\",\"2021-11-07\",\"2021-03-19\",\"2020-12-25\",\"2021-07-28\",\"2021-02-05\",\"2020-12-23\",\"2020-12-18\",\"2021-10-09\",\"2020-12-22\",\"2021-07-07\",\"2021-06-17\",\"2021-04-06\",\"2021-10-24\",\"2021-04-01\",\"2021-03-25\",\"2021-08-05\",\"2021-02-25\",\"2021-09-09\",\"2021-10-19\",\"2020-12-03\",\"2021-05-05\",\"2021-10-11\",\"2020-12-16\",\"2021-01-31\",\"2021-02-01\",\"2021-11-15\",\"2021-05-12\",\"2021-07-23\",\"2021-02-12\",\"2021-04-27\",\"2021-03-24\",\"2021-07-29\",\"2021-08-12\",\"2021-03-06\",\"2020-12-07\",\"2021-06-15\",\"2021-03-10\",\"2021-05-30\",\"2021-05-17\",\"2020-12-06\",\"2021-02-04\",\"2021-04-22\",\"2021-05-14\",\"2021-07-17\",\"2020-12-12\",\"2021-06-04\",\"2020-12-24\",\"2021-05-25\",\"2021-08-07\",\"2021-01-08\",\"2021-03-20\",\"2021-06-09\",\"2021-05-15\",\"2021-04-30\",\"2021-04-17\",\"2021-06-12\",\"2021-10-14\",\"2021-05-09\",\"2021-05-26\",\"2021-08-10\",\"2021-04-09\",\"2021-09-29\",\"2021-01-26\",\"2020-12-14\",\"2020-12-13\",\"2021-09-06\",\"2021-07-16\",\"2021-08-31\",\"2021-07-31\",\"2021-08-19\",\"2021-09-07\",\"2021-02-06\",\"2021-08-26\",\"2020-12-15\",\"2021-10-21\",\"2021-10-05\",\"2021-10-28\",\"2021-03-11\",\"2021-10-15\",\"2021-03-18\",\"2021-01-06\",\"2020-12-17\",\"2021-07-08\",\"2020-10-20\",\"2020-12-28\",\"2021-06-01\",\"2021-07-05\",\"2020-10-26\",\"2021-06-05\",\"2020-10-27\",\"2021-11-14\",\"2021-10-23\",\"2021-07-25\",\"2021-07-22\",\"2021-07-15\",\"2021-07-11\",\"2021-01-23\",\"2021-06-03\",\"2021-05-08\",\"2021-01-14\",\"2021-10-30\",\"2021-02-11\",\"2021-02-10\",\"2021-05-13\",\"2021-02-17\",\"2021-04-16\",\"2021-02-02\",\"2021-10-25\",\"2021-07-09\",\"2021-02-27\",\"2021-03-01\",\"2021-10-29\",\"2021-02-18\",\"2021-01-11\",\"2021-01-15\",\"2021-07-10\",\"2021-06-07\",\"2021-02-09\",\"2021-09-20\",\"2021-09-22\",\"2021-02-08\",\"2021-04-03\",\"2021-07-12\",\"2021-04-05\",\"2021-08-02\",\"2021-03-12\",\"2021-01-07\",\"2021-03-27\",\"2021-07-18\",\"2021-01-09\",\"2021-03-16\",\"2021-03-15\",\"2021-05-23\",\"2021-03-05\",\"2021-08-08\",\"2021-02-23\",\"2021-08-24\",\"2020-10-30\",\"2021-09-01\",\"2021-09-02\",\"2021-02-13\",\"2021-10-08\",\"2021-01-27\",\"2021-01-21\",\"2021-01-18\",\"2021-03-08\",\"2021-06-02\",\"2021-06-13\",\"2021-05-31\",\"2021-05-18\",\"2021-04-29\",\"2020-12-19\",\"2021-05-01\",\"2021-05-10\",\"2021-04-24\",\"2021-01-01\",\"2020-12-31\",\"2020-12-30\",\"2020-11-03\",\"2021-08-21\",\"2021-08-18\",\"2021-09-13\",\"2020-11-02\",\"2021-01-19\",\"2021-08-27\",\"2021-05-11\",\"2021-06-20\",\"2021-01-24\",\"2021-04-28\",\"2021-09-10\",\"2021-02-19\",\"2021-08-28\",\"2021-10-03\",\"2020-12-29\",\"2021-03-09\",\"2021-01-28\",\"2021-04-20\",\"2021-09-25\",\"2021-10-02\",\"2021-07-20\",\"2021-10-31\",\"2021-09-15\",\"2021-05-20\",\"2021-10-26\",\"2021-01-29\",\"2021-01-20\",\"2021-09-03\",\"2021-02-07\",\"2021-08-29\",\"2021-09-05\",\"2021-09-28\",\"2021-09-27\",\"2021-05-29\",\"2021-09-23\",\"2021-01-03\",\"2021-05-06\",\"2021-03-30\",\"2021-04-25\",\"2021-07-26\",\"2021-04-21\",\"2021-06-26\",\"2021-01-02\",\"2021-07-21\",\"2021-03-07\",\"2021-01-10\",\"2021-03-22\",\"2021-03-31\",\"2021-07-24\",\"2021-01-04\",\"2021-05-02\",\"2021-04-12\",\"2021-04-11\",\"2021-08-22\",\"2020-12-26\",\"2020-10-19\",\"2021-03-28\",\"2021-04-13\",\"2021-10-10\",\"2020-10-23\",\"2021-05-19\",\"2021-04-19\",\"2020-10-18\",\"2021-02-16\",\"2021-09-21\",\"2021-03-14\",\"2021-04-10\",\"2021-09-18\",\"2020-10-25\",\"2020-12-21\",\"2021-10-16\",\"2021-10-17\",\"2021-09-11\",\"2021-08-09\",\"2021-06-18\",\"2021-02-14\",\"2021-08-16\",\"2020-10-28\",\"2021-06-08\",\"2021-05-03\",\"2020-10-15\",\"2021-09-24\",\"2021-05-16\",\"2020-10-22\",\"2020-10-29\",\"2020-11-01\",\"2020-12-20\",\"2021-01-12\",\"2021-01-25\",\"2021-02-20\",\"2021-04-14\",\"2021-04-18\",\"2020-10-16\",\"2021-03-17\",\"2021-11-19\",\"2021-06-27\",\"2021-09-12\",\"2021-08-30\",\"2021-08-01\",\"2021-06-19\",\"2021-01-16\",\"2021-09-04\",\"2021-08-25\",\"2020-12-27\",\"2021-01-05\",\"2021-08-17\",\"2021-06-06\",\"2021-01-17\",\"2021-01-30\",\"2021-02-03\",\"2021-02-15\",\"2021-02-21\",\"2021-02-24\",\"2021-09-14\",\"2021-03-21\",\"2021-08-14\"],\"xaxis\":\"x\",\"y\":[52,50,49,49,47,46,45,44,43,43,41,39,37,37,36,36,36,35,35,34,34,34,34,33,33,33,32,32,32,32,31,31,31,30,29,29,29,29,29,28,28,28,28,27,27,27,26,26,26,25,25,25,25,25,25,24,24,24,24,23,23,23,22,22,22,22,22,21,21,21,21,21,21,21,20,20,20,20,19,19,19,19,19,19,19,18,18,18,18,18,17,17,17,17,17,17,17,17,17,16,16,16,16,16,16,15,15,15,15,15,15,15,15,15,15,15,15,15,15,14,14,14,14,14,14,14,13,13,13,13,13,13,13,13,13,13,13,12,12,12,12,12,12,12,12,12,12,12,12,12,12,12,12,12,11,11,11,11,11,11,11,11,11,11,11,11,11,11,11,10,10,10,10,10,10,10,10,10,10,10,10,10,10,10,10,10,10,9,9,9,9,9,9,9,9,9,9,9,9,9,9,8,8,8,8,8,8,8,8,8,8,8,8,8,8,8,8,8,8,8,8,8,8,8,8,7,7,7,7,7,7,7,7,7,7,7,7,7,7,7,7,7,7,6,6,6,6,6,6,6,6,6,6,6,6,6,6,6,6,6,6,6,6,6,6,6,6,6,6,6,6,6,6,6,6,6,5,5,5,5,5,5,5,5,5,5,5,5,5,5,5,5,5,5,5,5,5,5,5,4,4,4,4,4,4,4,4,4,4,4,4,4,4,4,4,4,4,4,4,4,4,4,4,4,4,4,4,4,4,4,4,4,3,3,3,3,3,3,3,3,3,3,3,3,3,3,3,3,3,3,3,3,3,3,3,3,3,2,2,2,2,2,2,2,2,2,2,2,2,2,2,2,2,2,2,2,2,1,1,1,1,1,1,1,1,1,1,1,1,1,1,1,1],\"yaxis\":\"y\",\"type\":\"scatter\"}],                        {\"template\":{\"data\":{\"bar\":[{\"error_x\":{\"color\":\"#2a3f5f\"},\"error_y\":{\"color\":\"#2a3f5f\"},\"marker\":{\"line\":{\"color\":\"#E5ECF6\",\"width\":0.5},\"pattern\":{\"fillmode\":\"overlay\",\"size\":10,\"solidity\":0.2}},\"type\":\"bar\"}],\"barpolar\":[{\"marker\":{\"line\":{\"color\":\"#E5ECF6\",\"width\":0.5},\"pattern\":{\"fillmode\":\"overlay\",\"size\":10,\"solidity\":0.2}},\"type\":\"barpolar\"}],\"carpet\":[{\"aaxis\":{\"endlinecolor\":\"#2a3f5f\",\"gridcolor\":\"white\",\"linecolor\":\"white\",\"minorgridcolor\":\"white\",\"startlinecolor\":\"#2a3f5f\"},\"baxis\":{\"endlinecolor\":\"#2a3f5f\",\"gridcolor\":\"white\",\"linecolor\":\"white\",\"minorgridcolor\":\"white\",\"startlinecolor\":\"#2a3f5f\"},\"type\":\"carpet\"}],\"choropleth\":[{\"colorbar\":{\"outlinewidth\":0,\"ticks\":\"\"},\"type\":\"choropleth\"}],\"contour\":[{\"colorbar\":{\"outlinewidth\":0,\"ticks\":\"\"},\"colorscale\":[[0.0,\"#0d0887\"],[0.1111111111111111,\"#46039f\"],[0.2222222222222222,\"#7201a8\"],[0.3333333333333333,\"#9c179e\"],[0.4444444444444444,\"#bd3786\"],[0.5555555555555556,\"#d8576b\"],[0.6666666666666666,\"#ed7953\"],[0.7777777777777778,\"#fb9f3a\"],[0.8888888888888888,\"#fdca26\"],[1.0,\"#f0f921\"]],\"type\":\"contour\"}],\"contourcarpet\":[{\"colorbar\":{\"outlinewidth\":0,\"ticks\":\"\"},\"type\":\"contourcarpet\"}],\"heatmap\":[{\"colorbar\":{\"outlinewidth\":0,\"ticks\":\"\"},\"colorscale\":[[0.0,\"#0d0887\"],[0.1111111111111111,\"#46039f\"],[0.2222222222222222,\"#7201a8\"],[0.3333333333333333,\"#9c179e\"],[0.4444444444444444,\"#bd3786\"],[0.5555555555555556,\"#d8576b\"],[0.6666666666666666,\"#ed7953\"],[0.7777777777777778,\"#fb9f3a\"],[0.8888888888888888,\"#fdca26\"],[1.0,\"#f0f921\"]],\"type\":\"heatmap\"}],\"heatmapgl\":[{\"colorbar\":{\"outlinewidth\":0,\"ticks\":\"\"},\"colorscale\":[[0.0,\"#0d0887\"],[0.1111111111111111,\"#46039f\"],[0.2222222222222222,\"#7201a8\"],[0.3333333333333333,\"#9c179e\"],[0.4444444444444444,\"#bd3786\"],[0.5555555555555556,\"#d8576b\"],[0.6666666666666666,\"#ed7953\"],[0.7777777777777778,\"#fb9f3a\"],[0.8888888888888888,\"#fdca26\"],[1.0,\"#f0f921\"]],\"type\":\"heatmapgl\"}],\"histogram\":[{\"marker\":{\"pattern\":{\"fillmode\":\"overlay\",\"size\":10,\"solidity\":0.2}},\"type\":\"histogram\"}],\"histogram2d\":[{\"colorbar\":{\"outlinewidth\":0,\"ticks\":\"\"},\"colorscale\":[[0.0,\"#0d0887\"],[0.1111111111111111,\"#46039f\"],[0.2222222222222222,\"#7201a8\"],[0.3333333333333333,\"#9c179e\"],[0.4444444444444444,\"#bd3786\"],[0.5555555555555556,\"#d8576b\"],[0.6666666666666666,\"#ed7953\"],[0.7777777777777778,\"#fb9f3a\"],[0.8888888888888888,\"#fdca26\"],[1.0,\"#f0f921\"]],\"type\":\"histogram2d\"}],\"histogram2dcontour\":[{\"colorbar\":{\"outlinewidth\":0,\"ticks\":\"\"},\"colorscale\":[[0.0,\"#0d0887\"],[0.1111111111111111,\"#46039f\"],[0.2222222222222222,\"#7201a8\"],[0.3333333333333333,\"#9c179e\"],[0.4444444444444444,\"#bd3786\"],[0.5555555555555556,\"#d8576b\"],[0.6666666666666666,\"#ed7953\"],[0.7777777777777778,\"#fb9f3a\"],[0.8888888888888888,\"#fdca26\"],[1.0,\"#f0f921\"]],\"type\":\"histogram2dcontour\"}],\"mesh3d\":[{\"colorbar\":{\"outlinewidth\":0,\"ticks\":\"\"},\"type\":\"mesh3d\"}],\"parcoords\":[{\"line\":{\"colorbar\":{\"outlinewidth\":0,\"ticks\":\"\"}},\"type\":\"parcoords\"}],\"pie\":[{\"automargin\":true,\"type\":\"pie\"}],\"scatter\":[{\"marker\":{\"colorbar\":{\"outlinewidth\":0,\"ticks\":\"\"}},\"type\":\"scatter\"}],\"scatter3d\":[{\"line\":{\"colorbar\":{\"outlinewidth\":0,\"ticks\":\"\"}},\"marker\":{\"colorbar\":{\"outlinewidth\":0,\"ticks\":\"\"}},\"type\":\"scatter3d\"}],\"scattercarpet\":[{\"marker\":{\"colorbar\":{\"outlinewidth\":0,\"ticks\":\"\"}},\"type\":\"scattercarpet\"}],\"scattergeo\":[{\"marker\":{\"colorbar\":{\"outlinewidth\":0,\"ticks\":\"\"}},\"type\":\"scattergeo\"}],\"scattergl\":[{\"marker\":{\"colorbar\":{\"outlinewidth\":0,\"ticks\":\"\"}},\"type\":\"scattergl\"}],\"scattermapbox\":[{\"marker\":{\"colorbar\":{\"outlinewidth\":0,\"ticks\":\"\"}},\"type\":\"scattermapbox\"}],\"scatterpolar\":[{\"marker\":{\"colorbar\":{\"outlinewidth\":0,\"ticks\":\"\"}},\"type\":\"scatterpolar\"}],\"scatterpolargl\":[{\"marker\":{\"colorbar\":{\"outlinewidth\":0,\"ticks\":\"\"}},\"type\":\"scatterpolargl\"}],\"scatterternary\":[{\"marker\":{\"colorbar\":{\"outlinewidth\":0,\"ticks\":\"\"}},\"type\":\"scatterternary\"}],\"surface\":[{\"colorbar\":{\"outlinewidth\":0,\"ticks\":\"\"},\"colorscale\":[[0.0,\"#0d0887\"],[0.1111111111111111,\"#46039f\"],[0.2222222222222222,\"#7201a8\"],[0.3333333333333333,\"#9c179e\"],[0.4444444444444444,\"#bd3786\"],[0.5555555555555556,\"#d8576b\"],[0.6666666666666666,\"#ed7953\"],[0.7777777777777778,\"#fb9f3a\"],[0.8888888888888888,\"#fdca26\"],[1.0,\"#f0f921\"]],\"type\":\"surface\"}],\"table\":[{\"cells\":{\"fill\":{\"color\":\"#EBF0F8\"},\"line\":{\"color\":\"white\"}},\"header\":{\"fill\":{\"color\":\"#C8D4E3\"},\"line\":{\"color\":\"white\"}},\"type\":\"table\"}]},\"layout\":{\"annotationdefaults\":{\"arrowcolor\":\"#2a3f5f\",\"arrowhead\":0,\"arrowwidth\":1},\"autotypenumbers\":\"strict\",\"coloraxis\":{\"colorbar\":{\"outlinewidth\":0,\"ticks\":\"\"}},\"colorscale\":{\"diverging\":[[0,\"#8e0152\"],[0.1,\"#c51b7d\"],[0.2,\"#de77ae\"],[0.3,\"#f1b6da\"],[0.4,\"#fde0ef\"],[0.5,\"#f7f7f7\"],[0.6,\"#e6f5d0\"],[0.7,\"#b8e186\"],[0.8,\"#7fbc41\"],[0.9,\"#4d9221\"],[1,\"#276419\"]],\"sequential\":[[0.0,\"#0d0887\"],[0.1111111111111111,\"#46039f\"],[0.2222222222222222,\"#7201a8\"],[0.3333333333333333,\"#9c179e\"],[0.4444444444444444,\"#bd3786\"],[0.5555555555555556,\"#d8576b\"],[0.6666666666666666,\"#ed7953\"],[0.7777777777777778,\"#fb9f3a\"],[0.8888888888888888,\"#fdca26\"],[1.0,\"#f0f921\"]],\"sequentialminus\":[[0.0,\"#0d0887\"],[0.1111111111111111,\"#46039f\"],[0.2222222222222222,\"#7201a8\"],[0.3333333333333333,\"#9c179e\"],[0.4444444444444444,\"#bd3786\"],[0.5555555555555556,\"#d8576b\"],[0.6666666666666666,\"#ed7953\"],[0.7777777777777778,\"#fb9f3a\"],[0.8888888888888888,\"#fdca26\"],[1.0,\"#f0f921\"]]},\"colorway\":[\"#636efa\",\"#EF553B\",\"#00cc96\",\"#ab63fa\",\"#FFA15A\",\"#19d3f3\",\"#FF6692\",\"#B6E880\",\"#FF97FF\",\"#FECB52\"],\"font\":{\"color\":\"#2a3f5f\"},\"geo\":{\"bgcolor\":\"white\",\"lakecolor\":\"white\",\"landcolor\":\"#E5ECF6\",\"showlakes\":true,\"showland\":true,\"subunitcolor\":\"white\"},\"hoverlabel\":{\"align\":\"left\"},\"hovermode\":\"closest\",\"mapbox\":{\"style\":\"light\"},\"paper_bgcolor\":\"white\",\"plot_bgcolor\":\"#E5ECF6\",\"polar\":{\"angularaxis\":{\"gridcolor\":\"white\",\"linecolor\":\"white\",\"ticks\":\"\"},\"bgcolor\":\"#E5ECF6\",\"radialaxis\":{\"gridcolor\":\"white\",\"linecolor\":\"white\",\"ticks\":\"\"}},\"scene\":{\"xaxis\":{\"backgroundcolor\":\"#E5ECF6\",\"gridcolor\":\"white\",\"gridwidth\":2,\"linecolor\":\"white\",\"showbackground\":true,\"ticks\":\"\",\"zerolinecolor\":\"white\"},\"yaxis\":{\"backgroundcolor\":\"#E5ECF6\",\"gridcolor\":\"white\",\"gridwidth\":2,\"linecolor\":\"white\",\"showbackground\":true,\"ticks\":\"\",\"zerolinecolor\":\"white\"},\"zaxis\":{\"backgroundcolor\":\"#E5ECF6\",\"gridcolor\":\"white\",\"gridwidth\":2,\"linecolor\":\"white\",\"showbackground\":true,\"ticks\":\"\",\"zerolinecolor\":\"white\"}},\"shapedefaults\":{\"line\":{\"color\":\"#2a3f5f\"}},\"ternary\":{\"aaxis\":{\"gridcolor\":\"white\",\"linecolor\":\"white\",\"ticks\":\"\"},\"baxis\":{\"gridcolor\":\"white\",\"linecolor\":\"white\",\"ticks\":\"\"},\"bgcolor\":\"#E5ECF6\",\"caxis\":{\"gridcolor\":\"white\",\"linecolor\":\"white\",\"ticks\":\"\"}},\"title\":{\"x\":0.05},\"xaxis\":{\"automargin\":true,\"gridcolor\":\"white\",\"linecolor\":\"white\",\"ticks\":\"\",\"title\":{\"standoff\":15},\"zerolinecolor\":\"white\",\"zerolinewidth\":2},\"yaxis\":{\"automargin\":true,\"gridcolor\":\"white\",\"linecolor\":\"white\",\"ticks\":\"\",\"title\":{\"standoff\":15},\"zerolinecolor\":\"white\",\"zerolinewidth\":2}}},\"xaxis\":{\"anchor\":\"y\",\"domain\":[0.0,1.0],\"title\":{\"text\":\"Publish Date\"}},\"yaxis\":{\"anchor\":\"x\",\"domain\":[0.0,1.0],\"title\":{\"text\":\"Volume of Articles (Tweeted)\"}},\"legend\":{\"tracegroupgap\":0},\"margin\":{\"t\":60},\"height\":600,\"title\":{\"text\":\"Western Media Coverage of Ethiopia after the Conflict in the North Began (2020 and 2021)\",\"x\":0.5},\"shapes\":[{\"fillcolor\":\"orange\",\"line\":{\"width\":0},\"opacity\":0.25,\"type\":\"rect\",\"x0\":\"2020-11-05\",\"x1\":\"2020-11-28\",\"xref\":\"x\",\"y0\":0,\"y1\":1,\"yref\":\"y domain\"},{\"fillcolor\":\"yellow\",\"line\":{\"width\":0},\"opacity\":0.5,\"type\":\"rect\",\"x0\":\"2021-06-28\",\"x1\":\"2021-07-02\",\"xref\":\"x\",\"y0\":0,\"y1\":1,\"yref\":\"y domain\"},{\"fillcolor\":\"red\",\"line\":{\"width\":0},\"opacity\":0.25,\"type\":\"rect\",\"x0\":\"2021-11-02\",\"x1\":\"2021-11-06\",\"xref\":\"x\",\"y0\":0,\"y1\":1,\"yref\":\"y domain\"}],\"annotations\":[{\"font\":{\"color\":\"darkred\",\"family\":\"Tahoma\",\"size\":12},\"showarrow\":false,\"text\":\"TPLF Attacks, ENDF Responds\",\"x\":\"2020-11-28\",\"xanchor\":\"right\",\"xref\":\"x\",\"y\":1,\"yanchor\":\"top\",\"yref\":\"y domain\"},{\"font\":{\"color\":\"brown\",\"family\":\"Tahoma\",\"size\":12},\"showarrow\":false,\"text\":\"Unilateral Ceasefire\",\"x\":\"2021-07-02\",\"xanchor\":\"right\",\"xref\":\"x\",\"y\":1,\"yanchor\":\"top\",\"yref\":\"y domain\"},{\"font\":{\"color\":\"darkred\",\"family\":\"Tahoma\",\"size\":12},\"showarrow\":false,\"text\":\"TPLF is Marching to Addis Hysteria \",\"x\":\"2021-11-06\",\"xanchor\":\"right\",\"xref\":\"x\",\"y\":1,\"yanchor\":\"top\",\"yref\":\"y domain\"}]},                        {\"responsive\": true}                    ).then(function(){\n",
              "                            \n",
              "var gd = document.getElementById('3df7536d-1a96-4a12-9c5f-f24a936d017f');\n",
              "var x = new MutationObserver(function (mutations, observer) {{\n",
              "        var display = window.getComputedStyle(gd).display;\n",
              "        if (!display || display === 'none') {{\n",
              "            console.log([gd, 'removed!']);\n",
              "            Plotly.purge(gd);\n",
              "            observer.disconnect();\n",
              "        }}\n",
              "}});\n",
              "\n",
              "// Listen for the removal of the full notebook cells\n",
              "var notebookContainer = gd.closest('#notebook-container');\n",
              "if (notebookContainer) {{\n",
              "    x.observe(notebookContainer, {childList: true});\n",
              "}}\n",
              "\n",
              "// Listen for the clearing of the current output cell\n",
              "var outputEl = gd.closest('.output');\n",
              "if (outputEl) {{\n",
              "    x.observe(outputEl, {childList: true});\n",
              "}}\n",
              "\n",
              "                        })                };                            </script>        </div>\n",
              "</body>\n",
              "</html>"
            ]
          },
          "metadata": {}
        }
      ]
    },
    {
      "cell_type": "code",
      "metadata": {
        "colab": {
          "base_uri": "https://localhost:8080/",
          "height": 1000
        },
        "id": "hkO0m2Eacw9D",
        "outputId": "c76329f1-6d7a-4b28-f314-66acd8dc1067"
      },
      "source": [
        "df_agg = df_tweets[df_tweets.datetime > '2020-10-15'][['date', 'tweet_url']].groupby('date')\\\n",
        "    .count() \\\n",
        "    .sort_values(['tweet_url'], ascending=False).reset_index()\n",
        "\n",
        "\n",
        "fig = px.area(df_agg, \n",
        "                x='date', y='tweet_url',\n",
        "                labels={'tweet_url':'Volume of Articles (Tweeted)', 'date':'Publish Date'}, \n",
        "                color_discrete_sequence=['green'],\n",
        "                height=600\n",
        "            )\n",
        "\n",
        "fig.update_layout(title_text='Western Media Coverage of Ethiopia after the Conflict in the North Began (2020 and 2021)', title_x=0.5)\n",
        "\n",
        "\n",
        "fig.add_vrect(\n",
        "    x0='2020-11-05', \n",
        "    x1='2020-11-28', \n",
        "    fillcolor='orange', \n",
        "    opacity=0.25, \n",
        "    line_width=0,\n",
        "    annotation=dict(font_size=12, font_color='darkred', font_family=\"Tahoma\"),\n",
        "    annotation_text=\"TPLF Attacks, ENDF Responds\", \n",
        "    # annotation_position=\"top right\"\n",
        ")\n",
        "\n",
        "fig.add_vrect(\n",
        "    x0='2021-06-28', \n",
        "    x1='2021-07-02', \n",
        "    fillcolor='yellow', \n",
        "    opacity=0.50, \n",
        "    line_width=0,\n",
        "    annotation=dict(font_size=12, font_color='brown', font_family=\"Tahoma\"),\n",
        "    annotation_text=\"Unilateral Ceasefire\", \n",
        "    # annotation_position=\"top right\"\n",
        ")\n",
        "fig.add_vrect(\n",
        "    x0='2021-11-02', \n",
        "    x1='2021-11-06', \n",
        "    fillcolor='red', \n",
        "    opacity=0.25, \n",
        "    line_width=0,\n",
        "    annotation=dict(font_size=12, font_color='darkred', font_family=\"Tahoma\"),\n",
        "    annotation_text=\"TPLF is Marching to Addis Hysteria \", \n",
        "    # annotation_position=\"top right\"\n",
        ")\n",
        "fig.show()"
      ],
      "execution_count": 57,
      "outputs": [
        {
          "output_type": "execute_result",
          "data": {
            "text/html": [
              "<div>\n",
              "<style scoped>\n",
              "    .dataframe tbody tr th:only-of-type {\n",
              "        vertical-align: middle;\n",
              "    }\n",
              "\n",
              "    .dataframe tbody tr th {\n",
              "        vertical-align: top;\n",
              "    }\n",
              "\n",
              "    .dataframe thead th {\n",
              "        text-align: right;\n",
              "    }\n",
              "</style>\n",
              "<table border=\"1\" class=\"dataframe\">\n",
              "  <thead>\n",
              "    <tr style=\"text-align: right;\">\n",
              "      <th></th>\n",
              "      <th>datetime</th>\n",
              "      <th>tweet_id</th>\n",
              "      <th>tweet_text</th>\n",
              "      <th>username</th>\n",
              "      <th>tweet_url</th>\n",
              "      <th>date</th>\n",
              "      <th>external_link</th>\n",
              "      <th>media_organization</th>\n",
              "    </tr>\n",
              "  </thead>\n",
              "  <tbody>\n",
              "    <tr>\n",
              "      <th>4231</th>\n",
              "      <td>2020-11-19 23:13:47+00:00</td>\n",
              "      <td>1329563550235451394</td>\n",
              "      <td>Why is Ethiopia facing civil war? – video expl...</td>\n",
              "      <td>guardian</td>\n",
              "      <td>https://twitter.com/guardian/status/1329563550...</td>\n",
              "      <td>2020-11-19</td>\n",
              "      <td>NaN</td>\n",
              "      <td>TheGuardian</td>\n",
              "    </tr>\n",
              "    <tr>\n",
              "      <th>4232</th>\n",
              "      <td>2020-11-19 19:41:03+00:00</td>\n",
              "      <td>1329510016538316810</td>\n",
              "      <td>A university official says the latest airstrik...</td>\n",
              "      <td>AP</td>\n",
              "      <td>https://twitter.com/AP/status/1329510016538316810</td>\n",
              "      <td>2020-11-19</td>\n",
              "      <td>NaN</td>\n",
              "      <td>AP</td>\n",
              "    </tr>\n",
              "    <tr>\n",
              "      <th>4233</th>\n",
              "      <td>2020-11-19 19:38:03+00:00</td>\n",
              "      <td>1329509261647507457</td>\n",
              "      <td>Ethiopia moves on Tigray capital, castigates W...</td>\n",
              "      <td>ReutersAfrica</td>\n",
              "      <td>https://twitter.com/ReutersAfrica/status/13295...</td>\n",
              "      <td>2020-11-19</td>\n",
              "      <td>NaN</td>\n",
              "      <td>Reuters</td>\n",
              "    </tr>\n",
              "    <tr>\n",
              "      <th>4234</th>\n",
              "      <td>2020-11-19 19:06:10+00:00</td>\n",
              "      <td>1329501239013412866</td>\n",
              "      <td>The conflict in #Ethiopia between the federal ...</td>\n",
              "      <td>VOAAfrica</td>\n",
              "      <td>https://twitter.com/VOAAfrica/status/132950123...</td>\n",
              "      <td>2020-11-19</td>\n",
              "      <td>NaN</td>\n",
              "      <td>VOA</td>\n",
              "    </tr>\n",
              "    <tr>\n",
              "      <th>4235</th>\n",
              "      <td>2020-11-19 19:03:06+00:00</td>\n",
              "      <td>1329500465386631171</td>\n",
              "      <td>Every two years the Mo Ibrahim Foundation rele...</td>\n",
              "      <td>VOAAfrica</td>\n",
              "      <td>https://twitter.com/VOAAfrica/status/132950046...</td>\n",
              "      <td>2020-11-19</td>\n",
              "      <td>NaN</td>\n",
              "      <td>VOA</td>\n",
              "    </tr>\n",
              "    <tr>\n",
              "      <th>4236</th>\n",
              "      <td>2020-11-19 18:59:57+00:00</td>\n",
              "      <td>1329499671484633098</td>\n",
              "      <td>#BREAKING WHO chief denies 'taking sides' in E...</td>\n",
              "      <td>AFP</td>\n",
              "      <td>https://twitter.com/AFP/status/132949967148463...</td>\n",
              "      <td>2020-11-19</td>\n",
              "      <td>NaN</td>\n",
              "      <td>AFP</td>\n",
              "    </tr>\n",
              "    <tr>\n",
              "      <th>4237</th>\n",
              "      <td>2020-11-19 17:15:00+00:00</td>\n",
              "      <td>1329473260715577345</td>\n",
              "      <td>Ethiopia's military has accused the head of th...</td>\n",
              "      <td>Reuters</td>\n",
              "      <td>https://twitter.com/Reuters/status/13294732607...</td>\n",
              "      <td>2020-11-19</td>\n",
              "      <td>NaN</td>\n",
              "      <td>Reuters</td>\n",
              "    </tr>\n",
              "    <tr>\n",
              "      <th>4238</th>\n",
              "      <td>2020-11-19 16:40:00+00:00</td>\n",
              "      <td>1329464452383731713</td>\n",
              "      <td>Thousands of cranes made a pit stop in Israel....</td>\n",
              "      <td>Reuters</td>\n",
              "      <td>https://twitter.com/Reuters/status/13294644523...</td>\n",
              "      <td>2020-11-19</td>\n",
              "      <td>NaN</td>\n",
              "      <td>Reuters</td>\n",
              "    </tr>\n",
              "    <tr>\n",
              "      <th>4239</th>\n",
              "      <td>2020-11-19 16:00:00+00:00</td>\n",
              "      <td>1329454386033135618</td>\n",
              "      <td>From spearheading the struggle against dictato...</td>\n",
              "      <td>AFP</td>\n",
              "      <td>https://twitter.com/AFP/status/132945438603313...</td>\n",
              "      <td>2020-11-19</td>\n",
              "      <td>NaN</td>\n",
              "      <td>AFP</td>\n",
              "    </tr>\n",
              "    <tr>\n",
              "      <th>4240</th>\n",
              "      <td>2020-11-19 15:45:04+00:00</td>\n",
              "      <td>1329450630625325057</td>\n",
              "      <td>Ethiopia’s army accuses WHO head of aiding the...</td>\n",
              "      <td>business</td>\n",
              "      <td>https://twitter.com/business/status/1329450630...</td>\n",
              "      <td>2020-11-19</td>\n",
              "      <td>NaN</td>\n",
              "      <td>Bloomberg</td>\n",
              "    </tr>\n",
              "    <tr>\n",
              "      <th>4241</th>\n",
              "      <td>2020-11-19 15:03:04+00:00</td>\n",
              "      <td>1329440057103626254</td>\n",
              "      <td>Ethiopian government forces are closing in on ...</td>\n",
              "      <td>business</td>\n",
              "      <td>https://twitter.com/business/status/1329440057...</td>\n",
              "      <td>2020-11-19</td>\n",
              "      <td>NaN</td>\n",
              "      <td>Bloomberg</td>\n",
              "    </tr>\n",
              "    <tr>\n",
              "      <th>4242</th>\n",
              "      <td>2020-11-19 14:50:19+00:00</td>\n",
              "      <td>1329436850574987264</td>\n",
              "      <td>Ethiopia accuses WHO chief Tedros of backing T...</td>\n",
              "      <td>Reuters</td>\n",
              "      <td>https://twitter.com/Reuters/status/13294368505...</td>\n",
              "      <td>2020-11-19</td>\n",
              "      <td>NaN</td>\n",
              "      <td>Reuters</td>\n",
              "    </tr>\n",
              "    <tr>\n",
              "      <th>4243</th>\n",
              "      <td>2020-11-19 14:41:13+00:00</td>\n",
              "      <td>1329434560535408640</td>\n",
              "      <td>A primer on the Tigray People's Liberation Fro...</td>\n",
              "      <td>afpafrica</td>\n",
              "      <td>https://twitter.com/rcoreyb/status/13294345605...</td>\n",
              "      <td>2020-11-19</td>\n",
              "      <td>NaN</td>\n",
              "      <td>AFP</td>\n",
              "    </tr>\n",
              "    <tr>\n",
              "      <th>4244</th>\n",
              "      <td>2020-11-19 14:37:57+00:00</td>\n",
              "      <td>1329433736228859909</td>\n",
              "      <td>Ethiopia suffered a prolonged and bloody civil...</td>\n",
              "      <td>ForeignAffairs</td>\n",
              "      <td>https://twitter.com/ForeignAffairs/status/1329...</td>\n",
              "      <td>2020-11-19</td>\n",
              "      <td>NaN</td>\n",
              "      <td>ForeignAffairs</td>\n",
              "    </tr>\n",
              "    <tr>\n",
              "      <th>4245</th>\n",
              "      <td>2020-11-19 14:15:14+00:00</td>\n",
              "      <td>1329428020940115971</td>\n",
              "      <td>Ethiopia’s military has accused WHO chief Tedr...</td>\n",
              "      <td>AJEnglish</td>\n",
              "      <td>https://twitter.com/AJEnglish/status/132942802...</td>\n",
              "      <td>2020-11-19</td>\n",
              "      <td>NaN</td>\n",
              "      <td>Aljazeera</td>\n",
              "    </tr>\n",
              "    <tr>\n",
              "      <th>4246</th>\n",
              "      <td>2020-11-19 14:15:00+00:00</td>\n",
              "      <td>1329427961699651584</td>\n",
              "      <td>After the Federal Aviation Administration gave...</td>\n",
              "      <td>Reuters</td>\n",
              "      <td>https://twitter.com/Reuters/status/13294279616...</td>\n",
              "      <td>2020-11-19</td>\n",
              "      <td>NaN</td>\n",
              "      <td>Reuters</td>\n",
              "    </tr>\n",
              "    <tr>\n",
              "      <th>4247</th>\n",
              "      <td>2020-11-19 14:15:00+00:00</td>\n",
              "      <td>1329427961519493123</td>\n",
              "      <td>Ethiopia's army chief accused @WHO's boss @DrT...</td>\n",
              "      <td>dwnews</td>\n",
              "      <td>https://twitter.com/dwnews/status/132942796151...</td>\n",
              "      <td>2020-11-19</td>\n",
              "      <td>NaN</td>\n",
              "      <td>DeutscheWelle</td>\n",
              "    </tr>\n",
              "    <tr>\n",
              "      <th>4248</th>\n",
              "      <td>2020-11-19 14:06:22+00:00</td>\n",
              "      <td>1329425788974796801</td>\n",
              "      <td>Ethiopian government forces are closing in on ...</td>\n",
              "      <td>BBGAfrica</td>\n",
              "      <td>https://twitter.com/BBGAfrica/status/132942578...</td>\n",
              "      <td>2020-11-19</td>\n",
              "      <td>NaN</td>\n",
              "      <td>Bloomberg</td>\n",
              "    </tr>\n",
              "    <tr>\n",
              "      <th>4249</th>\n",
              "      <td>2020-11-19 14:04:13+00:00</td>\n",
              "      <td>1329425249293791233</td>\n",
              "      <td>The fighting in Ethiopia has people worried ab...</td>\n",
              "      <td>AJEnglish</td>\n",
              "      <td>https://twitter.com/AJEnglish/status/132942524...</td>\n",
              "      <td>2020-11-19</td>\n",
              "      <td>NaN</td>\n",
              "      <td>Aljazeera</td>\n",
              "    </tr>\n",
              "    <tr>\n",
              "      <th>4250</th>\n",
              "      <td>2020-11-19 13:34:07+00:00</td>\n",
              "      <td>1329417674183610368</td>\n",
              "      <td>Ethiopia’s army accuses WHO head of aiding the...</td>\n",
              "      <td>BBGAfrica</td>\n",
              "      <td>https://twitter.com/BBGAfrica/status/132941767...</td>\n",
              "      <td>2020-11-19</td>\n",
              "      <td>NaN</td>\n",
              "      <td>Bloomberg</td>\n",
              "    </tr>\n",
              "    <tr>\n",
              "      <th>4251</th>\n",
              "      <td>2020-11-19 13:22:43+00:00</td>\n",
              "      <td>1329414806839980037</td>\n",
              "      <td>Ethiopia says its forces pushing towards Tigra...</td>\n",
              "      <td>ReutersAfrica</td>\n",
              "      <td>https://twitter.com/ReutersAfrica/status/13294...</td>\n",
              "      <td>2020-11-19</td>\n",
              "      <td>NaN</td>\n",
              "      <td>Reuters</td>\n",
              "    </tr>\n",
              "    <tr>\n",
              "      <th>4252</th>\n",
              "      <td>2020-11-19 13:21:32+00:00</td>\n",
              "      <td>1329414508159193089</td>\n",
              "      <td>Biden’s foreign policy aide urges end to fight...</td>\n",
              "      <td>globeandmail</td>\n",
              "      <td>https://twitter.com/globeandmail/status/132941...</td>\n",
              "      <td>2020-11-19</td>\n",
              "      <td>NaN</td>\n",
              "      <td>GlobeAndMail</td>\n",
              "    </tr>\n",
              "    <tr>\n",
              "      <th>4253</th>\n",
              "      <td>2020-11-19 13:05:09+00:00</td>\n",
              "      <td>1329410384541978629</td>\n",
              "      <td>Ethiopia accuses WHO chief Tedros of backing T...</td>\n",
              "      <td>Reuters</td>\n",
              "      <td>https://twitter.com/Reuters/status/13294103845...</td>\n",
              "      <td>2020-11-19</td>\n",
              "      <td>NaN</td>\n",
              "      <td>Reuters</td>\n",
              "    </tr>\n",
              "    <tr>\n",
              "      <th>4254</th>\n",
              "      <td>2020-11-19 13:05:00+00:00</td>\n",
              "      <td>1329410346067615744</td>\n",
              "      <td>Ethiopia's military accused the @WHO chief Ted...</td>\n",
              "      <td>Reuters</td>\n",
              "      <td>https://twitter.com/Reuters/status/13294103460...</td>\n",
              "      <td>2020-11-19</td>\n",
              "      <td>NaN</td>\n",
              "      <td>Reuters</td>\n",
              "    </tr>\n",
              "    <tr>\n",
              "      <th>4255</th>\n",
              "      <td>2020-11-19 12:40:00+00:00</td>\n",
              "      <td>1329404054045396993</td>\n",
              "      <td>Like every winter, the red-crowned Eurasian bi...</td>\n",
              "      <td>Reuters</td>\n",
              "      <td>https://twitter.com/Reuters/status/13294040540...</td>\n",
              "      <td>2020-11-19</td>\n",
              "      <td>NaN</td>\n",
              "      <td>Reuters</td>\n",
              "    </tr>\n",
              "    <tr>\n",
              "      <th>4256</th>\n",
              "      <td>2020-11-19 12:36:37+00:00</td>\n",
              "      <td>1329403201859293184</td>\n",
              "      <td>Ethiopia's military on Thursday accused the he...</td>\n",
              "      <td>ReutersAfrica</td>\n",
              "      <td>https://twitter.com/ReutersAfrica/status/13294...</td>\n",
              "      <td>2020-11-19</td>\n",
              "      <td>NaN</td>\n",
              "      <td>Reuters</td>\n",
              "    </tr>\n",
              "    <tr>\n",
              "      <th>4257</th>\n",
              "      <td>2020-11-19 12:24:16+00:00</td>\n",
              "      <td>1329400096144953346</td>\n",
              "      <td>Stop Ethiopia war and help civilians, Biden te...</td>\n",
              "      <td>ReutersAfrica</td>\n",
              "      <td>https://twitter.com/ReutersAfrica/status/13294...</td>\n",
              "      <td>2020-11-19</td>\n",
              "      <td>NaN</td>\n",
              "      <td>Reuters</td>\n",
              "    </tr>\n",
              "    <tr>\n",
              "      <th>4258</th>\n",
              "      <td>2020-11-19 11:51:05+00:00</td>\n",
              "      <td>1329391743557578759</td>\n",
              "      <td>Ethiopia accuses WHO head Tedros of backing Ti...</td>\n",
              "      <td>ReutersAfrica</td>\n",
              "      <td>https://twitter.com/ReutersAfrica/status/13293...</td>\n",
              "      <td>2020-11-19</td>\n",
              "      <td>NaN</td>\n",
              "      <td>Reuters</td>\n",
              "    </tr>\n",
              "    <tr>\n",
              "      <th>4259</th>\n",
              "      <td>2020-11-19 11:30:00+00:00</td>\n",
              "      <td>1329386439625228288</td>\n",
              "      <td>Ethiopia's army chief has accused WHO boss Ted...</td>\n",
              "      <td>AFP</td>\n",
              "      <td>https://twitter.com/AFP/status/132938643962522...</td>\n",
              "      <td>2020-11-19</td>\n",
              "      <td>NaN</td>\n",
              "      <td>AFP</td>\n",
              "    </tr>\n",
              "    <tr>\n",
              "      <th>4260</th>\n",
              "      <td>2020-11-19 11:05:00+00:00</td>\n",
              "      <td>1329380146898464770</td>\n",
              "      <td>The U.S. Federal Aviation Administration lifte...</td>\n",
              "      <td>Reuters</td>\n",
              "      <td>https://twitter.com/Reuters/status/13293801468...</td>\n",
              "      <td>2020-11-19</td>\n",
              "      <td>NaN</td>\n",
              "      <td>Reuters</td>\n",
              "    </tr>\n",
              "    <tr>\n",
              "      <th>4261</th>\n",
              "      <td>2020-11-19 09:55:05+00:00</td>\n",
              "      <td>1329362553424781312</td>\n",
              "      <td>Ethiopia accuses WHO head Tedros of backing Ti...</td>\n",
              "      <td>Reuters</td>\n",
              "      <td>https://twitter.com/Reuters/status/13293625534...</td>\n",
              "      <td>2020-11-19</td>\n",
              "      <td>NaN</td>\n",
              "      <td>Reuters</td>\n",
              "    </tr>\n",
              "    <tr>\n",
              "      <th>4262</th>\n",
              "      <td>2020-11-19 09:50:42+00:00</td>\n",
              "      <td>1329361451077791745</td>\n",
              "      <td>Ethiopia accuses WHO head Tedros of backing Ti...</td>\n",
              "      <td>ReutersAfrica</td>\n",
              "      <td>https://twitter.com/ReutersAfrica/status/13293...</td>\n",
              "      <td>2020-11-19</td>\n",
              "      <td>NaN</td>\n",
              "      <td>Reuters</td>\n",
              "    </tr>\n",
              "    <tr>\n",
              "      <th>4263</th>\n",
              "      <td>2020-11-19 09:22:26+00:00</td>\n",
              "      <td>1329354336489627648</td>\n",
              "      <td>This is what happened when an airstrike hit Ma...</td>\n",
              "      <td>BBCAfrica</td>\n",
              "      <td>https://twitter.com/BBCAfrica/status/132935433...</td>\n",
              "      <td>2020-11-19</td>\n",
              "      <td>NaN</td>\n",
              "      <td>BBC</td>\n",
              "    </tr>\n",
              "    <tr>\n",
              "      <th>4264</th>\n",
              "      <td>2020-11-19 09:00:00+00:00</td>\n",
              "      <td>1329348689660243971</td>\n",
              "      <td>Ethiopia says Tigray conflict to end 'in short...</td>\n",
              "      <td>ReutersAfrica</td>\n",
              "      <td>https://twitter.com/ReutersAfrica/status/13293...</td>\n",
              "      <td>2020-11-19</td>\n",
              "      <td>NaN</td>\n",
              "      <td>Reuters</td>\n",
              "    </tr>\n",
              "    <tr>\n",
              "      <th>4265</th>\n",
              "      <td>2020-11-19 08:14:33+00:00</td>\n",
              "      <td>1329337252455989248</td>\n",
              "      <td>#BREAKING Ethiopia army accuses WHO chief of b...</td>\n",
              "      <td>AFP</td>\n",
              "      <td>https://twitter.com/AFP/status/132933725245598...</td>\n",
              "      <td>2020-11-19</td>\n",
              "      <td>NaN</td>\n",
              "      <td>AFP</td>\n",
              "    </tr>\n",
              "    <tr>\n",
              "      <th>4266</th>\n",
              "      <td>2020-11-19 08:00:00+00:00</td>\n",
              "      <td>1329333589939347460</td>\n",
              "      <td>The U.N. refugee agency said on Friday that cl...</td>\n",
              "      <td>ReutersAfrica</td>\n",
              "      <td>https://twitter.com/ReutersAfrica/status/13293...</td>\n",
              "      <td>2020-11-19</td>\n",
              "      <td>NaN</td>\n",
              "      <td>Reuters</td>\n",
              "    </tr>\n",
              "    <tr>\n",
              "      <th>4267</th>\n",
              "      <td>2020-11-19 07:50:03+00:00</td>\n",
              "      <td>1329331085357051906</td>\n",
              "      <td>Ethiopian government says rebels have committe...</td>\n",
              "      <td>Reuters</td>\n",
              "      <td>https://twitter.com/Reuters/status/13293310853...</td>\n",
              "      <td>2020-11-19</td>\n",
              "      <td>NaN</td>\n",
              "      <td>Reuters</td>\n",
              "    </tr>\n",
              "    <tr>\n",
              "      <th>4268</th>\n",
              "      <td>2020-11-19 07:42:09+00:00</td>\n",
              "      <td>1329329099773521921</td>\n",
              "      <td>Ethiopian government says rebels have committe...</td>\n",
              "      <td>ReutersAfrica</td>\n",
              "      <td>https://twitter.com/ReutersAfrica/status/13293...</td>\n",
              "      <td>2020-11-19</td>\n",
              "      <td>NaN</td>\n",
              "      <td>Reuters</td>\n",
              "    </tr>\n",
              "    <tr>\n",
              "      <th>4269</th>\n",
              "      <td>2020-11-19 07:11:21+00:00</td>\n",
              "      <td>1329321349483991040</td>\n",
              "      <td>Less than a year after receiving the Nobel Pea...</td>\n",
              "      <td>BBGAfrica</td>\n",
              "      <td>https://twitter.com/BBGAfrica/status/132932134...</td>\n",
              "      <td>2020-11-19</td>\n",
              "      <td>NaN</td>\n",
              "      <td>Bloomberg</td>\n",
              "    </tr>\n",
              "    <tr>\n",
              "      <th>4270</th>\n",
              "      <td>2020-11-19 07:00:55+00:00</td>\n",
              "      <td>1329318723371593728</td>\n",
              "      <td>Tigray's rebellious regional government has in...</td>\n",
              "      <td>Telegraph</td>\n",
              "      <td>https://twitter.com/Telegraph/status/132931872...</td>\n",
              "      <td>2020-11-19</td>\n",
              "      <td>NaN</td>\n",
              "      <td>Telegraph</td>\n",
              "    </tr>\n",
              "    <tr>\n",
              "      <th>4271</th>\n",
              "      <td>2020-11-19 05:32:28+00:00</td>\n",
              "      <td>1329296463365550080</td>\n",
              "      <td>Ethiopia: aid workers report chaos as thousand...</td>\n",
              "      <td>guardian</td>\n",
              "      <td>https://twitter.com/guardian/status/1329296463...</td>\n",
              "      <td>2020-11-19</td>\n",
              "      <td>NaN</td>\n",
              "      <td>TheGuardian</td>\n",
              "    </tr>\n",
              "    <tr>\n",
              "      <th>4272</th>\n",
              "      <td>2020-11-19 05:27:00+00:00</td>\n",
              "      <td>1329295085763059715</td>\n",
              "      <td>Ethiopia's growing conflict has resulted in mo...</td>\n",
              "      <td>dwnews</td>\n",
              "      <td>https://twitter.com/dwnews/status/132929508576...</td>\n",
              "      <td>2020-11-19</td>\n",
              "      <td>NaN</td>\n",
              "      <td>DeutscheWelle</td>\n",
              "    </tr>\n",
              "    <tr>\n",
              "      <th>4273</th>\n",
              "      <td>2020-11-19 00:18:00+00:00</td>\n",
              "      <td>1329217323555811329</td>\n",
              "      <td>Exclusive: Ethiopia says disarms Tigrayan peac...</td>\n",
              "      <td>ReutersAfrica</td>\n",
              "      <td>https://twitter.com/ReutersAfrica/status/13292...</td>\n",
              "      <td>2020-11-19</td>\n",
              "      <td>NaN</td>\n",
              "      <td>Reuters</td>\n",
              "    </tr>\n",
              "  </tbody>\n",
              "</table>\n",
              "</div>"
            ],
            "text/plain": [
              "                       datetime  ...  media_organization\n",
              "4231  2020-11-19 23:13:47+00:00  ...         TheGuardian\n",
              "4232  2020-11-19 19:41:03+00:00  ...                  AP\n",
              "4233  2020-11-19 19:38:03+00:00  ...             Reuters\n",
              "4234  2020-11-19 19:06:10+00:00  ...                 VOA\n",
              "4235  2020-11-19 19:03:06+00:00  ...                 VOA\n",
              "4236  2020-11-19 18:59:57+00:00  ...                 AFP\n",
              "4237  2020-11-19 17:15:00+00:00  ...             Reuters\n",
              "4238  2020-11-19 16:40:00+00:00  ...             Reuters\n",
              "4239  2020-11-19 16:00:00+00:00  ...                 AFP\n",
              "4240  2020-11-19 15:45:04+00:00  ...           Bloomberg\n",
              "4241  2020-11-19 15:03:04+00:00  ...           Bloomberg\n",
              "4242  2020-11-19 14:50:19+00:00  ...             Reuters\n",
              "4243  2020-11-19 14:41:13+00:00  ...                 AFP\n",
              "4244  2020-11-19 14:37:57+00:00  ...      ForeignAffairs\n",
              "4245  2020-11-19 14:15:14+00:00  ...           Aljazeera\n",
              "4246  2020-11-19 14:15:00+00:00  ...             Reuters\n",
              "4247  2020-11-19 14:15:00+00:00  ...       DeutscheWelle\n",
              "4248  2020-11-19 14:06:22+00:00  ...           Bloomberg\n",
              "4249  2020-11-19 14:04:13+00:00  ...           Aljazeera\n",
              "4250  2020-11-19 13:34:07+00:00  ...           Bloomberg\n",
              "4251  2020-11-19 13:22:43+00:00  ...             Reuters\n",
              "4252  2020-11-19 13:21:32+00:00  ...        GlobeAndMail\n",
              "4253  2020-11-19 13:05:09+00:00  ...             Reuters\n",
              "4254  2020-11-19 13:05:00+00:00  ...             Reuters\n",
              "4255  2020-11-19 12:40:00+00:00  ...             Reuters\n",
              "4256  2020-11-19 12:36:37+00:00  ...             Reuters\n",
              "4257  2020-11-19 12:24:16+00:00  ...             Reuters\n",
              "4258  2020-11-19 11:51:05+00:00  ...             Reuters\n",
              "4259  2020-11-19 11:30:00+00:00  ...                 AFP\n",
              "4260  2020-11-19 11:05:00+00:00  ...             Reuters\n",
              "4261  2020-11-19 09:55:05+00:00  ...             Reuters\n",
              "4262  2020-11-19 09:50:42+00:00  ...             Reuters\n",
              "4263  2020-11-19 09:22:26+00:00  ...                 BBC\n",
              "4264  2020-11-19 09:00:00+00:00  ...             Reuters\n",
              "4265  2020-11-19 08:14:33+00:00  ...                 AFP\n",
              "4266  2020-11-19 08:00:00+00:00  ...             Reuters\n",
              "4267  2020-11-19 07:50:03+00:00  ...             Reuters\n",
              "4268  2020-11-19 07:42:09+00:00  ...             Reuters\n",
              "4269  2020-11-19 07:11:21+00:00  ...           Bloomberg\n",
              "4270  2020-11-19 07:00:55+00:00  ...           Telegraph\n",
              "4271  2020-11-19 05:32:28+00:00  ...         TheGuardian\n",
              "4272  2020-11-19 05:27:00+00:00  ...       DeutscheWelle\n",
              "4273  2020-11-19 00:18:00+00:00  ...             Reuters\n",
              "\n",
              "[43 rows x 8 columns]"
            ]
          },
          "metadata": {},
          "execution_count": 57
        }
      ]
    },
    {
      "cell_type": "code",
      "metadata": {
        "colab": {
          "base_uri": "https://localhost:8080/",
          "height": 639
        },
        "id": "hY8A3FQZTMLE",
        "outputId": "7efdb4ba-4d03-473a-8a5a-dee3cec3f19d"
      },
      "source": [
        "\n",
        "df_tweets[['media_organization', 'tweet_url']].groupby('media_organization')\\\n",
        "    .count() \\\n",
        "    .sort_values(['tweet_url'], ascending=False)\\\n",
        "    .plot(kind='bar', figsize=(16,9))"
      ],
      "execution_count": 158,
      "outputs": [
        {
          "output_type": "execute_result",
          "data": {
            "text/plain": [
              "<matplotlib.axes._subplots.AxesSubplot at 0x7f00743b4910>"
            ]
          },
          "metadata": {},
          "execution_count": 158
        },
        {
          "output_type": "display_data",
          "data": {
            "image/png": "[encoded data removed]",
            "text/plain": [
              "<Figure size 1152x648 with 1 Axes>"
            ]
          },
          "metadata": {
            "needs_background": "light"
          }
        }
      ]
    },
    {
      "cell_type": "code",
      "metadata": {
        "id": "cRLbYXDdIqfX"
      },
      "source": [
        "df_tweets[['date', 'tweet_url']].groupby('media_organization')\\\n",
        "    .count() \\\n",
        "    .sort_values(['tweet_url'], ascending=False)\\\n",
        "    .plot(kind='bar', figsize=(16,9))"
      ],
      "execution_count": null,
      "outputs": []
    },
    {
      "cell_type": "code",
      "metadata": {
        "id": "44c8A6_wB7hq"
      },
      "source": [
        "from matplotlib.pyplot import figure\n",
        "from matplotlib import pyplot as plt\n",
        "import matplotlib.dates as mdates\n",
        "\n",
        "\n",
        "figure(figsize=(12, 8), dpi=80)\n"
      ],
      "execution_count": null,
      "outputs": []
    },
    {
      "cell_type": "code",
      "metadata": {
        "id": "6SJc-FTewWaK"
      },
      "source": [
        "\n",
        "agg = tweets_df1[['Datetime', 'URL']].groupby('Datetime')\\\n",
        "    .count() \\\n",
        "    .sort_values(['URL'], ascending=False)\n",
        "\n",
        "agg['moving_average'] = agg.rolling(window=90).max()\n",
        "\n",
        "fig, ax = plt.subplots(figsize=(20,7))\n",
        "ax.set_yscale('linear')\n",
        "ax.xaxis.set_major_locator(mdates.)\n",
        "\n",
        "agg.URL.plot(kind='area', ax=ax)\n",
        "# agg.moving_average.plot(kind='line', ax=ax)\n",
        "\n",
        "plt.show()"
      ],
      "execution_count": null,
      "outputs": []
    },
    {
      "cell_type": "code",
      "metadata": {
        "id": "EXpQyZSKy3qF"
      },
      "source": [
        ""
      ],
      "execution_count": null,
      "outputs": []
    }
  ]
}